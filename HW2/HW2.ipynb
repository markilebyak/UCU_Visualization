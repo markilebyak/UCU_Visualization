{
 "cells": [
  {
   "cell_type": "markdown",
   "id": "741998ae",
   "metadata": {},
   "source": [
    "## Homework 2\n",
    "\n",
    "Instructions\n",
    "Ваше завдання створити візуалізації, котрі відповідають на наступні питання:\n",
    "\n",
    "- Як змінювалась структура генерації електроенергії за роками?\n",
    "\n",
    "- Як залежить споживання електроенергії від дня року та години доби?\n",
    "\n",
    "- Як змінюється генерація електроенергії з різних джерел впродовж доби?\n",
    "\n",
    "- Як змінюється споживання електроенергії впродовж доби у розрізі місяців року та пір року?\n",
    "\n",
    "- Як змінюється споживання електроенергії впродовж тижня?\n",
    "\n",
    "Ви самостійно маєте обрати спосіб візуалізації. Ви також маєте написати короткий супровідний текст до кожної візуалізації, котрий пояснює, чому ви обрали саме цей спосіб презентації даних, які ще альтернативи ви розглядали, та чому зупинились саме на цьому варіанті (які його переваги та недоліки).\n",
    "\n",
    "Складові генерації: АЕС,ТЕЦ,ВДЕ,ТЕС,ГЕС,ГАЕС. Споживання не включає обсяги закачки ГАЕС. Міждержавні перетоки: Україна - Білорусь та РФ, Україна - ЄС, Україна - Молдова. Одиниця виміру - МВт.\n",
    "Наразі не створено жодного вигляду для цього ресурсу."
   ]
  },
  {
   "cell_type": "code",
   "execution_count": 6,
   "id": "820ceeba",
   "metadata": {},
   "outputs": [
    {
     "data": {
      "text/plain": [
       "RendererRegistry.enable('default')"
      ]
     },
     "execution_count": 6,
     "metadata": {},
     "output_type": "execute_result"
    }
   ],
   "source": [
    "import altair as alt\n",
    "import pandas as pd\n",
    "alt.renderers.enable('default')"
   ]
  },
  {
   "cell_type": "markdown",
   "id": "6d42ae54",
   "metadata": {},
   "source": [
    "## 1. Data investigation"
   ]
  },
  {
   "cell_type": "code",
   "execution_count": 8,
   "id": "09bce2b1",
   "metadata": {},
   "outputs": [
    {
     "data": {
      "text/html": [
       "<div>\n",
       "<style scoped>\n",
       "    .dataframe tbody tr th:only-of-type {\n",
       "        vertical-align: middle;\n",
       "    }\n",
       "\n",
       "    .dataframe tbody tr th {\n",
       "        vertical-align: top;\n",
       "    }\n",
       "\n",
       "    .dataframe thead th {\n",
       "        text-align: right;\n",
       "    }\n",
       "</style>\n",
       "<table border=\"1\" class=\"dataframe\">\n",
       "  <thead>\n",
       "    <tr style=\"text-align: right;\">\n",
       "      <th></th>\n",
       "      <th>Час/Дата</th>\n",
       "      <th>AES</th>\n",
       "      <th>TEC</th>\n",
       "      <th>VDE</th>\n",
       "      <th>TES</th>\n",
       "      <th>GES</th>\n",
       "      <th>GAES_GEN</th>\n",
       "      <th>CONSUMPTION</th>\n",
       "      <th>GAES_PUMP</th>\n",
       "      <th>UK_BLR_RUS</th>\n",
       "      <th>UK_EURO</th>\n",
       "      <th>UK_MLD</th>\n",
       "      <th>Unnamed: 12</th>\n",
       "    </tr>\n",
       "  </thead>\n",
       "  <tbody>\n",
       "    <tr>\n",
       "      <th>0</th>\n",
       "      <td>24-31.12.2020</td>\n",
       "      <td>9235</td>\n",
       "      <td>2039</td>\n",
       "      <td>621</td>\n",
       "      <td>4942</td>\n",
       "      <td>385.0</td>\n",
       "      <td>0</td>\n",
       "      <td>16693</td>\n",
       "      <td>-405.0</td>\n",
       "      <td>-84.0</td>\n",
       "      <td>-11.0</td>\n",
       "      <td>-29.0</td>\n",
       "      <td>NaN</td>\n",
       "    </tr>\n",
       "    <tr>\n",
       "      <th>1</th>\n",
       "      <td>23-31.12.2020</td>\n",
       "      <td>9221</td>\n",
       "      <td>2159</td>\n",
       "      <td>707</td>\n",
       "      <td>5549</td>\n",
       "      <td>470.0</td>\n",
       "      <td>0</td>\n",
       "      <td>17805</td>\n",
       "      <td>0.0</td>\n",
       "      <td>-43.0</td>\n",
       "      <td>-212.0</td>\n",
       "      <td>-46.0</td>\n",
       "      <td>NaN</td>\n",
       "    </tr>\n",
       "    <tr>\n",
       "      <th>2</th>\n",
       "      <td>22-31.12.2020</td>\n",
       "      <td>9249</td>\n",
       "      <td>2377</td>\n",
       "      <td>709</td>\n",
       "      <td>5906</td>\n",
       "      <td>1000.0</td>\n",
       "      <td>0</td>\n",
       "      <td>18870</td>\n",
       "      <td>0.0</td>\n",
       "      <td>-13.0</td>\n",
       "      <td>-328.0</td>\n",
       "      <td>-30.0</td>\n",
       "      <td>NaN</td>\n",
       "    </tr>\n",
       "    <tr>\n",
       "      <th>3</th>\n",
       "      <td>21-31.12.2020</td>\n",
       "      <td>9256</td>\n",
       "      <td>2499</td>\n",
       "      <td>702</td>\n",
       "      <td>6329</td>\n",
       "      <td>909.0</td>\n",
       "      <td>322</td>\n",
       "      <td>19887</td>\n",
       "      <td>0.0</td>\n",
       "      <td>0.0</td>\n",
       "      <td>-64.0</td>\n",
       "      <td>-66.0</td>\n",
       "      <td>NaN</td>\n",
       "    </tr>\n",
       "    <tr>\n",
       "      <th>4</th>\n",
       "      <td>20-31.12.2020</td>\n",
       "      <td>9213</td>\n",
       "      <td>2521</td>\n",
       "      <td>702</td>\n",
       "      <td>6640</td>\n",
       "      <td>823.0</td>\n",
       "      <td>602</td>\n",
       "      <td>20387</td>\n",
       "      <td>0.0</td>\n",
       "      <td>-29.0</td>\n",
       "      <td>-48.0</td>\n",
       "      <td>-37.0</td>\n",
       "      <td>NaN</td>\n",
       "    </tr>\n",
       "  </tbody>\n",
       "</table>\n",
       "</div>"
      ],
      "text/plain": [
       "        Час/Дата   AES   TEC  VDE   TES     GES  GAES_GEN  CONSUMPTION  \\\n",
       "0  24-31.12.2020  9235  2039  621  4942   385.0         0        16693   \n",
       "1  23-31.12.2020  9221  2159  707  5549   470.0         0        17805   \n",
       "2  22-31.12.2020  9249  2377  709  5906  1000.0         0        18870   \n",
       "3  21-31.12.2020  9256  2499  702  6329   909.0       322        19887   \n",
       "4  20-31.12.2020  9213  2521  702  6640   823.0       602        20387   \n",
       "\n",
       "   GAES_PUMP  UK_BLR_RUS  UK_EURO  UK_MLD  Unnamed: 12  \n",
       "0     -405.0       -84.0    -11.0   -29.0          NaN  \n",
       "1        0.0       -43.0   -212.0   -46.0          NaN  \n",
       "2        0.0       -13.0   -328.0   -30.0          NaN  \n",
       "3        0.0         0.0    -64.0   -66.0          NaN  \n",
       "4        0.0       -29.0    -48.0   -37.0          NaN  "
      ]
     },
     "execution_count": 8,
     "metadata": {},
     "output_type": "execute_result"
    }
   ],
   "source": [
    "df = pd.read_excel('./2014-2020.xlsx')\n",
    "df.head()"
   ]
  },
  {
   "cell_type": "code",
   "execution_count": 9,
   "id": "4d407a77",
   "metadata": {},
   "outputs": [
    {
     "name": "stdout",
     "output_type": "stream",
     "text": [
      "<class 'pandas.core.frame.DataFrame'>\n",
      "RangeIndex: 61368 entries, 0 to 61367\n",
      "Data columns (total 13 columns):\n",
      " #   Column       Non-Null Count  Dtype  \n",
      "---  ------       --------------  -----  \n",
      " 0   Час/Дата     61368 non-null  object \n",
      " 1   AES          61368 non-null  int64  \n",
      " 2   TEC          61368 non-null  int64  \n",
      " 3   VDE          61368 non-null  int64  \n",
      " 4   TES          61368 non-null  int64  \n",
      " 5   GES          61367 non-null  float64\n",
      " 6   GAES_GEN     61368 non-null  int64  \n",
      " 7   CONSUMPTION  61368 non-null  int64  \n",
      " 8   GAES_PUMP    61367 non-null  float64\n",
      " 9   UK_BLR_RUS   61367 non-null  float64\n",
      " 10  UK_EURO      61367 non-null  float64\n",
      " 11  UK_MLD       61367 non-null  float64\n",
      " 12  Unnamed: 12  1 non-null      float64\n",
      "dtypes: float64(6), int64(6), object(1)\n",
      "memory usage: 6.1+ MB\n"
     ]
    }
   ],
   "source": [
    "df.info()"
   ]
  },
  {
   "cell_type": "markdown",
   "id": "bdfba5f4",
   "metadata": {},
   "source": [
    "## 2. Data preprocessing"
   ]
  },
  {
   "cell_type": "code",
   "execution_count": null,
   "id": "cfa84c74",
   "metadata": {},
   "outputs": [],
   "source": []
  },
  {
   "cell_type": "code",
   "execution_count": null,
   "id": "d4d88325",
   "metadata": {},
   "outputs": [],
   "source": []
  },
  {
   "cell_type": "code",
   "execution_count": null,
   "id": "0809c410",
   "metadata": {},
   "outputs": [],
   "source": []
  },
  {
   "cell_type": "code",
   "execution_count": null,
   "id": "793d52b1",
   "metadata": {},
   "outputs": [],
   "source": []
  },
  {
   "cell_type": "code",
   "execution_count": null,
   "id": "b0e945ed",
   "metadata": {},
   "outputs": [],
   "source": []
  },
  {
   "cell_type": "code",
   "execution_count": null,
   "id": "160f8b93",
   "metadata": {},
   "outputs": [],
   "source": []
  },
  {
   "cell_type": "code",
   "execution_count": null,
   "id": "071c3e3e",
   "metadata": {},
   "outputs": [],
   "source": []
  },
  {
   "cell_type": "markdown",
   "id": "f4d84031",
   "metadata": {},
   "source": [
    "## 3. Plotting"
   ]
  },
  {
   "cell_type": "markdown",
   "id": "d1a802eb",
   "metadata": {},
   "source": [
    "### Task 1. Як змінювалась структура генерації електроенергії за роками?"
   ]
  },
  {
   "cell_type": "code",
   "execution_count": null,
   "id": "a1a63a61",
   "metadata": {},
   "outputs": [],
   "source": []
  },
  {
   "cell_type": "markdown",
   "id": "02c80463",
   "metadata": {},
   "source": [
    "### Task 2. Як залежить споживання електроенергії від дня року та години доби?"
   ]
  },
  {
   "cell_type": "code",
   "execution_count": null,
   "id": "9a58548f",
   "metadata": {},
   "outputs": [],
   "source": []
  },
  {
   "cell_type": "markdown",
   "id": "cb3e7743",
   "metadata": {},
   "source": [
    "### Task 3. Як змінюється генерація електроенергії з різних джерел впродовж доби?"
   ]
  },
  {
   "cell_type": "code",
   "execution_count": null,
   "id": "9ffaf6b4",
   "metadata": {},
   "outputs": [],
   "source": []
  },
  {
   "cell_type": "markdown",
   "id": "53b8c066",
   "metadata": {},
   "source": [
    "### Task 4. Як змінюється споживання електроенергії впродовж доби у розрізі місяців року та пір року?"
   ]
  },
  {
   "cell_type": "code",
   "execution_count": null,
   "id": "9f5dcb16",
   "metadata": {},
   "outputs": [],
   "source": []
  },
  {
   "cell_type": "markdown",
   "id": "d66a4d79",
   "metadata": {},
   "source": [
    "### Task 5. Як змінюється споживання електроенергії впродовж тижня?"
   ]
  },
  {
   "cell_type": "code",
   "execution_count": null,
   "id": "be839eb4",
   "metadata": {},
   "outputs": [],
   "source": []
  },
  {
   "cell_type": "code",
   "execution_count": null,
   "id": "6cb9c461",
   "metadata": {},
   "outputs": [],
   "source": []
  },
  {
   "cell_type": "code",
   "execution_count": null,
   "id": "40e271de",
   "metadata": {},
   "outputs": [],
   "source": []
  }
 ],
 "metadata": {
  "kernelspec": {
   "display_name": "Python 3 (ipykernel)",
   "language": "python",
   "name": "python3"
  },
  "language_info": {
   "codemirror_mode": {
    "name": "ipython",
    "version": 3
   },
   "file_extension": ".py",
   "mimetype": "text/x-python",
   "name": "python",
   "nbconvert_exporter": "python",
   "pygments_lexer": "ipython3",
   "version": "3.8.9"
  }
 },
 "nbformat": 4,
 "nbformat_minor": 5
}
