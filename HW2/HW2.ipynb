{
 "cells": [
  {
   "cell_type": "markdown",
   "id": "741998ae",
   "metadata": {},
   "source": [
    "## Homework 2\n",
    "\n",
    "Instructions\n",
    "Ваше завдання створити візуалізації, котрі відповідають на наступні питання:\n",
    "\n",
    "- Як змінювалась структура генерації електроенергії за роками?\n",
    "\n",
    "- Як залежить споживання електроенергії від дня року та години доби?\n",
    "\n",
    "- Як змінюється генерація електроенергії з різних джерел впродовж доби?\n",
    "\n",
    "- Як змінюється споживання електроенергії впродовж доби у розрізі місяців року та пір року?\n",
    "\n",
    "- Як змінюється споживання електроенергії впродовж тижня?\n",
    "\n",
    "Ви самостійно маєте обрати спосіб візуалізації. Ви також маєте написати короткий супровідний текст до кожної візуалізації, котрий пояснює, чому ви обрали саме цей спосіб презентації даних, які ще альтернативи ви розглядали, та чому зупинились саме на цьому варіанті (які його переваги та недоліки).\n",
    "\n",
    "Складові генерації: АЕС,ТЕЦ,ВДЕ,ТЕС,ГЕС,ГАЕС. Споживання не включає обсяги закачки ГАЕС. Міждержавні перетоки: Україна - Білорусь та РФ, Україна - ЄС, Україна - Молдова. Одиниця виміру - МВт.\n",
    "Наразі не створено жодного вигляду для цього ресурсу."
   ]
  },
  {
   "cell_type": "code",
   "execution_count": 61,
   "id": "820ceeba",
   "metadata": {},
   "outputs": [
    {
     "data": {
      "text/plain": [
       "RendererRegistry.enable('default')"
      ]
     },
     "execution_count": 61,
     "metadata": {},
     "output_type": "execute_result"
    }
   ],
   "source": [
    "import   altair as alt\n",
    "import   pandas as pd\n",
    "import   datetime\n",
    "alt.renderers.enable('default')"
   ]
  },
  {
   "cell_type": "markdown",
   "id": "695f700d",
   "metadata": {},
   "source": [
    "## 1. Data investigation"
   ]
  },
  {
   "cell_type": "code",
   "execution_count": 62,
   "id": "09bce2b1",
   "metadata": {},
   "outputs": [
    {
     "data": {
      "text/html": [
       "<div>\n",
       "<style scoped>\n",
       "    .dataframe tbody tr th:only-of-type {\n",
       "        vertical-align: middle;\n",
       "    }\n",
       "\n",
       "    .dataframe tbody tr th {\n",
       "        vertical-align: top;\n",
       "    }\n",
       "\n",
       "    .dataframe thead th {\n",
       "        text-align: right;\n",
       "    }\n",
       "</style>\n",
       "<table border=\"1\" class=\"dataframe\">\n",
       "  <thead>\n",
       "    <tr style=\"text-align: right;\">\n",
       "      <th></th>\n",
       "      <th>Час/Дата</th>\n",
       "      <th>AES</th>\n",
       "      <th>TEC</th>\n",
       "      <th>VDE</th>\n",
       "      <th>TES</th>\n",
       "      <th>GES</th>\n",
       "      <th>GAES_GEN</th>\n",
       "      <th>CONSUMPTION</th>\n",
       "      <th>GAES_PUMP</th>\n",
       "      <th>UK_BLR_RUS</th>\n",
       "      <th>UK_EURO</th>\n",
       "      <th>UK_MLD</th>\n",
       "      <th>Unnamed: 12</th>\n",
       "    </tr>\n",
       "  </thead>\n",
       "  <tbody>\n",
       "    <tr>\n",
       "      <th>0</th>\n",
       "      <td>24-31.12.2020</td>\n",
       "      <td>9235</td>\n",
       "      <td>2039</td>\n",
       "      <td>621</td>\n",
       "      <td>4942</td>\n",
       "      <td>385.0</td>\n",
       "      <td>0</td>\n",
       "      <td>16693</td>\n",
       "      <td>-405.0</td>\n",
       "      <td>-84.0</td>\n",
       "      <td>-11.0</td>\n",
       "      <td>-29.0</td>\n",
       "      <td>NaN</td>\n",
       "    </tr>\n",
       "    <tr>\n",
       "      <th>1</th>\n",
       "      <td>23-31.12.2020</td>\n",
       "      <td>9221</td>\n",
       "      <td>2159</td>\n",
       "      <td>707</td>\n",
       "      <td>5549</td>\n",
       "      <td>470.0</td>\n",
       "      <td>0</td>\n",
       "      <td>17805</td>\n",
       "      <td>0.0</td>\n",
       "      <td>-43.0</td>\n",
       "      <td>-212.0</td>\n",
       "      <td>-46.0</td>\n",
       "      <td>NaN</td>\n",
       "    </tr>\n",
       "    <tr>\n",
       "      <th>2</th>\n",
       "      <td>22-31.12.2020</td>\n",
       "      <td>9249</td>\n",
       "      <td>2377</td>\n",
       "      <td>709</td>\n",
       "      <td>5906</td>\n",
       "      <td>1000.0</td>\n",
       "      <td>0</td>\n",
       "      <td>18870</td>\n",
       "      <td>0.0</td>\n",
       "      <td>-13.0</td>\n",
       "      <td>-328.0</td>\n",
       "      <td>-30.0</td>\n",
       "      <td>NaN</td>\n",
       "    </tr>\n",
       "    <tr>\n",
       "      <th>3</th>\n",
       "      <td>21-31.12.2020</td>\n",
       "      <td>9256</td>\n",
       "      <td>2499</td>\n",
       "      <td>702</td>\n",
       "      <td>6329</td>\n",
       "      <td>909.0</td>\n",
       "      <td>322</td>\n",
       "      <td>19887</td>\n",
       "      <td>0.0</td>\n",
       "      <td>0.0</td>\n",
       "      <td>-64.0</td>\n",
       "      <td>-66.0</td>\n",
       "      <td>NaN</td>\n",
       "    </tr>\n",
       "    <tr>\n",
       "      <th>4</th>\n",
       "      <td>20-31.12.2020</td>\n",
       "      <td>9213</td>\n",
       "      <td>2521</td>\n",
       "      <td>702</td>\n",
       "      <td>6640</td>\n",
       "      <td>823.0</td>\n",
       "      <td>602</td>\n",
       "      <td>20387</td>\n",
       "      <td>0.0</td>\n",
       "      <td>-29.0</td>\n",
       "      <td>-48.0</td>\n",
       "      <td>-37.0</td>\n",
       "      <td>NaN</td>\n",
       "    </tr>\n",
       "  </tbody>\n",
       "</table>\n",
       "</div>"
      ],
      "text/plain": [
       "        Час/Дата   AES   TEC  VDE   TES     GES  GAES_GEN  CONSUMPTION  \\\n",
       "0  24-31.12.2020  9235  2039  621  4942   385.0         0        16693   \n",
       "1  23-31.12.2020  9221  2159  707  5549   470.0         0        17805   \n",
       "2  22-31.12.2020  9249  2377  709  5906  1000.0         0        18870   \n",
       "3  21-31.12.2020  9256  2499  702  6329   909.0       322        19887   \n",
       "4  20-31.12.2020  9213  2521  702  6640   823.0       602        20387   \n",
       "\n",
       "   GAES_PUMP  UK_BLR_RUS  UK_EURO  UK_MLD  Unnamed: 12  \n",
       "0     -405.0       -84.0    -11.0   -29.0          NaN  \n",
       "1        0.0       -43.0   -212.0   -46.0          NaN  \n",
       "2        0.0       -13.0   -328.0   -30.0          NaN  \n",
       "3        0.0         0.0    -64.0   -66.0          NaN  \n",
       "4        0.0       -29.0    -48.0   -37.0          NaN  "
      ]
     },
     "execution_count": 62,
     "metadata": {},
     "output_type": "execute_result"
    }
   ],
   "source": [
    "df = pd.read_excel('./2014-2020.xlsx')\n",
    "df.head()"
   ]
  },
  {
   "cell_type": "code",
   "execution_count": 63,
   "id": "4d407a77",
   "metadata": {},
   "outputs": [
    {
     "name": "stdout",
     "output_type": "stream",
     "text": [
      "<class 'pandas.core.frame.DataFrame'>\n",
      "RangeIndex: 61368 entries, 0 to 61367\n",
      "Data columns (total 13 columns):\n",
      " #   Column       Non-Null Count  Dtype  \n",
      "---  ------       --------------  -----  \n",
      " 0   Час/Дата     61368 non-null  object \n",
      " 1   AES          61368 non-null  int64  \n",
      " 2   TEC          61368 non-null  int64  \n",
      " 3   VDE          61368 non-null  int64  \n",
      " 4   TES          61368 non-null  int64  \n",
      " 5   GES          61367 non-null  float64\n",
      " 6   GAES_GEN     61368 non-null  int64  \n",
      " 7   CONSUMPTION  61368 non-null  int64  \n",
      " 8   GAES_PUMP    61367 non-null  float64\n",
      " 9   UK_BLR_RUS   61367 non-null  float64\n",
      " 10  UK_EURO      61367 non-null  float64\n",
      " 11  UK_MLD       61367 non-null  float64\n",
      " 12  Unnamed: 12  1 non-null      float64\n",
      "dtypes: float64(6), int64(6), object(1)\n",
      "memory usage: 6.1+ MB\n"
     ]
    }
   ],
   "source": [
    "df.info()"
   ]
  },
  {
   "cell_type": "markdown",
   "id": "8b03f319",
   "metadata": {},
   "source": [
    "## 2. Data preprocessing"
   ]
  },
  {
   "cell_type": "code",
   "execution_count": 64,
   "id": "cfa84c74",
   "metadata": {},
   "outputs": [],
   "source": [
    "# Delete strange column and ones we won't use\n",
    "\n",
    "df.drop(\"Unnamed: 12\",  axis='columns', inplace=True)\n",
    "df.drop(\"GAES_PUMP\",    axis='columns', inplace=True)\n",
    "df.drop(\"UK_BLR_RUS\",   axis='columns', inplace=True)\n",
    "df.drop(\"UK_EURO\",      axis='columns', inplace=True)\n",
    "df.drop(\"UK_MLD\",       axis='columns', inplace=True)"
   ]
  },
  {
   "cell_type": "code",
   "execution_count": 65,
   "id": "076b9103",
   "metadata": {},
   "outputs": [
    {
     "data": {
      "text/html": [
       "<div>\n",
       "<style scoped>\n",
       "    .dataframe tbody tr th:only-of-type {\n",
       "        vertical-align: middle;\n",
       "    }\n",
       "\n",
       "    .dataframe tbody tr th {\n",
       "        vertical-align: top;\n",
       "    }\n",
       "\n",
       "    .dataframe thead th {\n",
       "        text-align: right;\n",
       "    }\n",
       "</style>\n",
       "<table border=\"1\" class=\"dataframe\">\n",
       "  <thead>\n",
       "    <tr style=\"text-align: right;\">\n",
       "      <th></th>\n",
       "      <th>Час/Дата</th>\n",
       "      <th>AES</th>\n",
       "      <th>TEC</th>\n",
       "      <th>VDE</th>\n",
       "      <th>TES</th>\n",
       "      <th>GES</th>\n",
       "      <th>GAES_GEN</th>\n",
       "      <th>CONSUMPTION</th>\n",
       "    </tr>\n",
       "  </thead>\n",
       "  <tbody>\n",
       "    <tr>\n",
       "      <th>17544</th>\n",
       "      <td>24-31.12.2018</td>\n",
       "      <td>10533</td>\n",
       "      <td>2345</td>\n",
       "      <td>11</td>\n",
       "      <td>5882</td>\n",
       "      <td>NaN</td>\n",
       "      <td>0</td>\n",
       "      <td>17883</td>\n",
       "    </tr>\n",
       "  </tbody>\n",
       "</table>\n",
       "</div>"
      ],
      "text/plain": [
       "            Час/Дата    AES   TEC  VDE   TES  GES  GAES_GEN  CONSUMPTION\n",
       "17544  24-31.12.2018  10533  2345   11  5882  NaN         0        17883"
      ]
     },
     "execution_count": 65,
     "metadata": {},
     "output_type": "execute_result"
    }
   ],
   "source": [
    "# Find rows where are Nan values\n",
    "\n",
    "df[df.isnull().any(axis=1)]"
   ]
  },
  {
   "cell_type": "code",
   "execution_count": 66,
   "id": "0f9fb8fa",
   "metadata": {},
   "outputs": [],
   "source": [
    "# Lets drop this row 17544, due to avoid incomplete picture\n",
    "\n",
    "df.drop(df.index[[17544]], inplace=True)"
   ]
  },
  {
   "cell_type": "code",
   "execution_count": 67,
   "id": "d4d88325",
   "metadata": {},
   "outputs": [],
   "source": [
    "# Transform columns\n",
    "\n",
    "df[\"Hour\"]    = df[\"Час/Дата\"].str.split(\"-\",expand=True)[0]\n",
    "df[\"Date\"]    = df[\"Час/Дата\"].str.split(\"-\",expand=True)[1]\n",
    "df[\"Day\"]     = df[\"Date\"].str.split(\".\",expand=True)[0]\n",
    "df[\"Month\"]   = df[\"Date\"].str.split(\".\",expand=True)[1]\n",
    "df[\"Year\"]    = df[\"Date\"].str.split(\".\",expand=True)[2]\n",
    "df[\"Hour\"]    = pd.to_numeric(df[\"Hour\"])\n",
    "df[\"Day\"]     = pd.to_numeric(df[\"Day\"])\n",
    "df[\"Month\"]   = pd.to_numeric(df[\"Month\"])\n",
    "df[\"Year\"]    = pd.to_numeric(df[\"Year\"])\n",
    "df[\"Date\"]    = pd.to_datetime(df[\"Date\"])\n",
    "df['Weekday'] = pd.Series(df[\"Date\"]).dt.day_name()"
   ]
  },
  {
   "cell_type": "code",
   "execution_count": 68,
   "id": "0809c410",
   "metadata": {},
   "outputs": [],
   "source": [
    "# Add season column for next visualization\n",
    "\n",
    "season_month = {\n",
    "            12:'Winter', 1:'Winter', 2:'Winter',\n",
    "            3:'Spring', 4:'Spring', 5:'Spring',\n",
    "            6:'Summer', 7:'Summer', 8:'Summer',\n",
    "            9:'Autumn', 10:'Autumn', 11:'Autumn'}\n",
    "\n",
    "\n",
    "df[\"Season\"] = df.apply (lambda row: season_month.get(row[\"Month\"]), axis=1)"
   ]
  },
  {
   "cell_type": "code",
   "execution_count": 69,
   "id": "a1680c11",
   "metadata": {},
   "outputs": [],
   "source": [
    "df.drop(\"Час/Дата\", axis='columns', inplace=True)"
   ]
  },
  {
   "cell_type": "code",
   "execution_count": 70,
   "id": "bd6c63a0",
   "metadata": {},
   "outputs": [
    {
     "data": {
      "text/html": [
       "<div>\n",
       "<style scoped>\n",
       "    .dataframe tbody tr th:only-of-type {\n",
       "        vertical-align: middle;\n",
       "    }\n",
       "\n",
       "    .dataframe tbody tr th {\n",
       "        vertical-align: top;\n",
       "    }\n",
       "\n",
       "    .dataframe thead th {\n",
       "        text-align: right;\n",
       "    }\n",
       "</style>\n",
       "<table border=\"1\" class=\"dataframe\">\n",
       "  <thead>\n",
       "    <tr style=\"text-align: right;\">\n",
       "      <th></th>\n",
       "      <th>AES</th>\n",
       "      <th>TEC</th>\n",
       "      <th>VDE</th>\n",
       "      <th>TES</th>\n",
       "      <th>GES</th>\n",
       "      <th>GAES_GEN</th>\n",
       "      <th>CONSUMPTION</th>\n",
       "      <th>Hour</th>\n",
       "      <th>Date</th>\n",
       "      <th>Day</th>\n",
       "      <th>Month</th>\n",
       "      <th>Year</th>\n",
       "      <th>Weekday</th>\n",
       "      <th>Season</th>\n",
       "    </tr>\n",
       "  </thead>\n",
       "  <tbody>\n",
       "    <tr>\n",
       "      <th>0</th>\n",
       "      <td>9235</td>\n",
       "      <td>2039</td>\n",
       "      <td>621</td>\n",
       "      <td>4942</td>\n",
       "      <td>385.0</td>\n",
       "      <td>0</td>\n",
       "      <td>16693</td>\n",
       "      <td>24</td>\n",
       "      <td>2020-12-31</td>\n",
       "      <td>31</td>\n",
       "      <td>12</td>\n",
       "      <td>2020</td>\n",
       "      <td>Thursday</td>\n",
       "      <td>Winter</td>\n",
       "    </tr>\n",
       "    <tr>\n",
       "      <th>1</th>\n",
       "      <td>9221</td>\n",
       "      <td>2159</td>\n",
       "      <td>707</td>\n",
       "      <td>5549</td>\n",
       "      <td>470.0</td>\n",
       "      <td>0</td>\n",
       "      <td>17805</td>\n",
       "      <td>23</td>\n",
       "      <td>2020-12-31</td>\n",
       "      <td>31</td>\n",
       "      <td>12</td>\n",
       "      <td>2020</td>\n",
       "      <td>Thursday</td>\n",
       "      <td>Winter</td>\n",
       "    </tr>\n",
       "    <tr>\n",
       "      <th>2</th>\n",
       "      <td>9249</td>\n",
       "      <td>2377</td>\n",
       "      <td>709</td>\n",
       "      <td>5906</td>\n",
       "      <td>1000.0</td>\n",
       "      <td>0</td>\n",
       "      <td>18870</td>\n",
       "      <td>22</td>\n",
       "      <td>2020-12-31</td>\n",
       "      <td>31</td>\n",
       "      <td>12</td>\n",
       "      <td>2020</td>\n",
       "      <td>Thursday</td>\n",
       "      <td>Winter</td>\n",
       "    </tr>\n",
       "    <tr>\n",
       "      <th>3</th>\n",
       "      <td>9256</td>\n",
       "      <td>2499</td>\n",
       "      <td>702</td>\n",
       "      <td>6329</td>\n",
       "      <td>909.0</td>\n",
       "      <td>322</td>\n",
       "      <td>19887</td>\n",
       "      <td>21</td>\n",
       "      <td>2020-12-31</td>\n",
       "      <td>31</td>\n",
       "      <td>12</td>\n",
       "      <td>2020</td>\n",
       "      <td>Thursday</td>\n",
       "      <td>Winter</td>\n",
       "    </tr>\n",
       "    <tr>\n",
       "      <th>4</th>\n",
       "      <td>9213</td>\n",
       "      <td>2521</td>\n",
       "      <td>702</td>\n",
       "      <td>6640</td>\n",
       "      <td>823.0</td>\n",
       "      <td>602</td>\n",
       "      <td>20387</td>\n",
       "      <td>20</td>\n",
       "      <td>2020-12-31</td>\n",
       "      <td>31</td>\n",
       "      <td>12</td>\n",
       "      <td>2020</td>\n",
       "      <td>Thursday</td>\n",
       "      <td>Winter</td>\n",
       "    </tr>\n",
       "  </tbody>\n",
       "</table>\n",
       "</div>"
      ],
      "text/plain": [
       "    AES   TEC  VDE   TES     GES  GAES_GEN  CONSUMPTION  Hour       Date  Day  \\\n",
       "0  9235  2039  621  4942   385.0         0        16693    24 2020-12-31   31   \n",
       "1  9221  2159  707  5549   470.0         0        17805    23 2020-12-31   31   \n",
       "2  9249  2377  709  5906  1000.0         0        18870    22 2020-12-31   31   \n",
       "3  9256  2499  702  6329   909.0       322        19887    21 2020-12-31   31   \n",
       "4  9213  2521  702  6640   823.0       602        20387    20 2020-12-31   31   \n",
       "\n",
       "   Month  Year   Weekday  Season  \n",
       "0     12  2020  Thursday  Winter  \n",
       "1     12  2020  Thursday  Winter  \n",
       "2     12  2020  Thursday  Winter  \n",
       "3     12  2020  Thursday  Winter  \n",
       "4     12  2020  Thursday  Winter  "
      ]
     },
     "execution_count": 70,
     "metadata": {},
     "output_type": "execute_result"
    }
   ],
   "source": [
    "df.head()"
   ]
  },
  {
   "cell_type": "code",
   "execution_count": 71,
   "id": "a712e81b",
   "metadata": {},
   "outputs": [
    {
     "name": "stdout",
     "output_type": "stream",
     "text": [
      "<class 'pandas.core.frame.DataFrame'>\n",
      "Int64Index: 61367 entries, 0 to 61367\n",
      "Data columns (total 14 columns):\n",
      " #   Column       Non-Null Count  Dtype         \n",
      "---  ------       --------------  -----         \n",
      " 0   AES          61367 non-null  int64         \n",
      " 1   TEC          61367 non-null  int64         \n",
      " 2   VDE          61367 non-null  int64         \n",
      " 3   TES          61367 non-null  int64         \n",
      " 4   GES          61367 non-null  float64       \n",
      " 5   GAES_GEN     61367 non-null  int64         \n",
      " 6   CONSUMPTION  61367 non-null  int64         \n",
      " 7   Hour         61367 non-null  int64         \n",
      " 8   Date         61367 non-null  datetime64[ns]\n",
      " 9   Day          61367 non-null  int64         \n",
      " 10  Month        61367 non-null  int64         \n",
      " 11  Year         61367 non-null  int64         \n",
      " 12  Weekday      61367 non-null  object        \n",
      " 13  Season       61367 non-null  object        \n",
      "dtypes: datetime64[ns](1), float64(1), int64(10), object(2)\n",
      "memory usage: 7.0+ MB\n"
     ]
    }
   ],
   "source": [
    "df.info()"
   ]
  },
  {
   "cell_type": "markdown",
   "id": "2d097688",
   "metadata": {},
   "source": [
    "## 3. Plotting"
   ]
  },
  {
   "cell_type": "markdown",
   "id": "7d64f8ee",
   "metadata": {},
   "source": [
    "### Task 1. Як змінювалась структура генерації електроенергії за роками?"
   ]
  },
  {
   "cell_type": "code",
   "execution_count": null,
   "id": "a580f604",
   "metadata": {},
   "outputs": [],
   "source": []
  },
  {
   "cell_type": "markdown",
   "id": "3e36d9e6",
   "metadata": {},
   "source": [
    "### Task 2. Як залежить споживання електроенергії від дня року та години доби?"
   ]
  },
  {
   "cell_type": "code",
   "execution_count": null,
   "id": "fd7393a4",
   "metadata": {},
   "outputs": [],
   "source": []
  },
  {
   "cell_type": "markdown",
   "id": "3029f614",
   "metadata": {},
   "source": [
    "### Task 3. Як змінюється генерація електроенергії з різних джерел впродовж доби?"
   ]
  },
  {
   "cell_type": "code",
   "execution_count": null,
   "id": "66b6b039",
   "metadata": {},
   "outputs": [],
   "source": []
  },
  {
   "cell_type": "markdown",
   "id": "6bd5f321",
   "metadata": {},
   "source": [
    "### Task 4. Як змінюється споживання електроенергії впродовж доби у розрізі місяців року та пір року?"
   ]
  },
  {
   "cell_type": "code",
   "execution_count": null,
   "id": "8030eeb8",
   "metadata": {},
   "outputs": [],
   "source": []
  },
  {
   "cell_type": "markdown",
   "id": "2c3b52b2",
   "metadata": {},
   "source": [
    "### Task 5. Як змінюється споживання електроенергії впродовж тижня?"
   ]
  },
  {
   "cell_type": "code",
   "execution_count": null,
   "id": "0009a985",
   "metadata": {},
   "outputs": [],
   "source": []
  },
  {
   "cell_type": "code",
   "execution_count": null,
   "id": "9909a48c",
   "metadata": {},
   "outputs": [],
   "source": []
  },
  {
   "cell_type": "code",
   "execution_count": null,
   "id": "fecf96a0",
   "metadata": {},
   "outputs": [],
   "source": []
  }
 ],
 "metadata": {
  "kernelspec": {
   "display_name": "Python 3 (ipykernel)",
   "language": "python",
   "name": "python3"
  },
  "language_info": {
   "codemirror_mode": {
    "name": "ipython",
    "version": 3
   },
   "file_extension": ".py",
   "mimetype": "text/x-python",
   "name": "python",
   "nbconvert_exporter": "python",
   "pygments_lexer": "ipython3",
   "version": "3.8.9"
  }
 },
 "nbformat": 4,
 "nbformat_minor": 5
}
