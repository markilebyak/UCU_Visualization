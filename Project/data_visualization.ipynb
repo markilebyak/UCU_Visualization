{
 "cells": [
  {
   "cell_type": "markdown",
   "id": "d162e20e",
   "metadata": {},
   "source": [
    "##### Import needed libraries and set needed options"
   ]
  },
  {
   "cell_type": "code",
   "execution_count": 14,
   "id": "94da2a97",
   "metadata": {},
   "outputs": [],
   "source": [
    "import altair as alt\n",
    "import pandas as pd\n",
    "import numpy as np\n",
    "import geopandas as gpd\n",
    "\n",
    "pd.set_option('display.max_colwidth', None)"
   ]
  },
  {
   "cell_type": "markdown",
   "id": "651243af",
   "metadata": {},
   "source": [
    "# Final project for Visualization course UCU"
   ]
  },
  {
   "cell_type": "code",
   "execution_count": null,
   "id": "d845eaa5",
   "metadata": {},
   "outputs": [],
   "source": []
  },
  {
   "cell_type": "code",
   "execution_count": null,
   "id": "caeaae0e",
   "metadata": {},
   "outputs": [],
   "source": []
  },
  {
   "cell_type": "markdown",
   "id": "30bfb308",
   "metadata": {},
   "source": [
    "# 1. Data investigation"
   ]
  },
  {
   "cell_type": "code",
   "execution_count": 15,
   "id": "870a93c6",
   "metadata": {},
   "outputs": [],
   "source": [
    "df = pd.read_csv('./data/cleaned_covid_data.csv.zip')"
   ]
  },
  {
   "cell_type": "code",
   "execution_count": 16,
   "id": "611294c5",
   "metadata": {},
   "outputs": [
    {
     "name": "stdout",
     "output_type": "stream",
     "text": [
      "<class 'pandas.core.frame.DataFrame'>\n",
      "RangeIndex: 20101540 entries, 0 to 20101539\n",
      "Data columns (total 6 columns):\n",
      " #   Column                       Dtype \n",
      "---  ------                       ----- \n",
      " 0   Age_group                    object\n",
      " 1   Gender                       object\n",
      " 2   Vaccination_sequence_number  int64 \n",
      " 3   Vaccination_needed_doses     int64 \n",
      " 4   Medical_care                 object\n",
      " 5   Region                       object\n",
      "dtypes: int64(2), object(4)\n",
      "memory usage: 920.2+ MB\n"
     ]
    }
   ],
   "source": [
    "df.info()"
   ]
  },
  {
   "cell_type": "code",
   "execution_count": 17,
   "id": "5dc1835a",
   "metadata": {},
   "outputs": [
    {
     "data": {
      "text/html": [
       "<div>\n",
       "<style scoped>\n",
       "    .dataframe tbody tr th:only-of-type {\n",
       "        vertical-align: middle;\n",
       "    }\n",
       "\n",
       "    .dataframe tbody tr th {\n",
       "        vertical-align: top;\n",
       "    }\n",
       "\n",
       "    .dataframe thead th {\n",
       "        text-align: right;\n",
       "    }\n",
       "</style>\n",
       "<table border=\"1\" class=\"dataframe\">\n",
       "  <thead>\n",
       "    <tr style=\"text-align: right;\">\n",
       "      <th></th>\n",
       "      <th>Age_group</th>\n",
       "      <th>Gender</th>\n",
       "      <th>Vaccination_sequence_number</th>\n",
       "      <th>Vaccination_needed_doses</th>\n",
       "      <th>Medical_care</th>\n",
       "      <th>Region</th>\n",
       "    </tr>\n",
       "  </thead>\n",
       "  <tbody>\n",
       "    <tr>\n",
       "      <th>0</th>\n",
       "      <td>46-50</td>\n",
       "      <td>Female</td>\n",
       "      <td>2</td>\n",
       "      <td>1</td>\n",
       "      <td>First aid</td>\n",
       "      <td>Chernihiv</td>\n",
       "    </tr>\n",
       "    <tr>\n",
       "      <th>1</th>\n",
       "      <td>46-50</td>\n",
       "      <td>Male</td>\n",
       "      <td>2</td>\n",
       "      <td>1</td>\n",
       "      <td>First aid</td>\n",
       "      <td>Chernihiv</td>\n",
       "    </tr>\n",
       "    <tr>\n",
       "      <th>2</th>\n",
       "      <td>26-30</td>\n",
       "      <td>Female</td>\n",
       "      <td>2</td>\n",
       "      <td>1</td>\n",
       "      <td>First aid</td>\n",
       "      <td>Chernihiv</td>\n",
       "    </tr>\n",
       "    <tr>\n",
       "      <th>3</th>\n",
       "      <td>36-40</td>\n",
       "      <td>Male</td>\n",
       "      <td>2</td>\n",
       "      <td>1</td>\n",
       "      <td>First aid</td>\n",
       "      <td>Chernihiv</td>\n",
       "    </tr>\n",
       "    <tr>\n",
       "      <th>4</th>\n",
       "      <td>46-50</td>\n",
       "      <td>Male</td>\n",
       "      <td>2</td>\n",
       "      <td>1</td>\n",
       "      <td>First aid</td>\n",
       "      <td>Chernihiv</td>\n",
       "    </tr>\n",
       "  </tbody>\n",
       "</table>\n",
       "</div>"
      ],
      "text/plain": [
       "  Age_group  Gender  Vaccination_sequence_number  Vaccination_needed_doses  \\\n",
       "0     46-50  Female                            2                         1   \n",
       "1     46-50    Male                            2                         1   \n",
       "2     26-30  Female                            2                         1   \n",
       "3     36-40    Male                            2                         1   \n",
       "4     46-50    Male                            2                         1   \n",
       "\n",
       "  Medical_care     Region  \n",
       "0    First aid  Chernihiv  \n",
       "1    First aid  Chernihiv  \n",
       "2    First aid  Chernihiv  \n",
       "3    First aid  Chernihiv  \n",
       "4    First aid  Chernihiv  "
      ]
     },
     "execution_count": 17,
     "metadata": {},
     "output_type": "execute_result"
    }
   ],
   "source": [
    "df.head()"
   ]
  },
  {
   "cell_type": "code",
   "execution_count": 18,
   "id": "a8139423",
   "metadata": {},
   "outputs": [
    {
     "data": {
      "text/plain": [
       "Age_group                      0\n",
       "Gender                         0\n",
       "Vaccination_sequence_number    0\n",
       "Vaccination_needed_doses       0\n",
       "Medical_care                   0\n",
       "Region                         0\n",
       "dtype: int64"
      ]
     },
     "execution_count": 18,
     "metadata": {},
     "output_type": "execute_result"
    }
   ],
   "source": [
    "df.isna().sum()"
   ]
  },
  {
   "cell_type": "code",
   "execution_count": 19,
   "id": "51393476",
   "metadata": {},
   "outputs": [
    {
     "data": {
      "text/plain": [
       "36-40    2159576\n",
       "41-45    2066320\n",
       "31-35    2038502\n",
       "46-50    2024649\n",
       "56-60    1922248\n",
       "51-55    1864994\n",
       "61-65    1718556\n",
       "26-30    1555987\n",
       "66-70    1296460\n",
       "21-25    1233549\n",
       "71-75     842152\n",
       "16-20     698529\n",
       "76-80     339168\n",
       "81-85     253743\n",
       "86-90      51242\n",
       "11-15      16593\n",
       "91-95      15516\n",
       "96+         2247\n",
       "5-10         913\n",
       "0-4          596\n",
       "Name: Age_group, dtype: int64"
      ]
     },
     "execution_count": 19,
     "metadata": {},
     "output_type": "execute_result"
    }
   ],
   "source": [
    "df['Age_group'].value_counts()"
   ]
  },
  {
   "cell_type": "code",
   "execution_count": 20,
   "id": "0e31db8a",
   "metadata": {},
   "outputs": [
    {
     "data": {
      "text/plain": [
       "Female    11487123\n",
       "Male       8614417\n",
       "Name: Gender, dtype: int64"
      ]
     },
     "execution_count": 20,
     "metadata": {},
     "output_type": "execute_result"
    }
   ],
   "source": [
    "df['Gender'].value_counts()"
   ]
  },
  {
   "cell_type": "code",
   "execution_count": 21,
   "id": "e332a472",
   "metadata": {},
   "outputs": [
    {
     "data": {
      "text/plain": [
       "1     11918735\n",
       "2      8147519\n",
       "3         8570\n",
       "4         5858\n",
       "5         5613\n",
       "6         4740\n",
       "7         2783\n",
       "8         2696\n",
       "9         2574\n",
       "10        2452\n",
       "Name: Vaccination_sequence_number, dtype: int64"
      ]
     },
     "execution_count": 21,
     "metadata": {},
     "output_type": "execute_result"
    }
   ],
   "source": [
    "df['Vaccination_sequence_number'].value_counts()"
   ]
  },
  {
   "cell_type": "code",
   "execution_count": 23,
   "id": "351514e8",
   "metadata": {},
   "outputs": [
    {
     "data": {
      "text/plain": [
       "2     19935767\n",
       "1       159808\n",
       "3         1981\n",
       "5         1679\n",
       "10        1232\n",
       "6          718\n",
       "4          282\n",
       "9           32\n",
       "7           22\n",
       "8           19\n",
       "Name: Vaccination_needed_doses, dtype: int64"
      ]
     },
     "execution_count": 23,
     "metadata": {},
     "output_type": "execute_result"
    }
   ],
   "source": [
    "df['Vaccination_needed_doses'].value_counts()"
   ]
  },
  {
   "cell_type": "code",
   "execution_count": 24,
   "id": "1972bc12",
   "metadata": {},
   "outputs": [
    {
     "data": {
      "text/plain": [
       "First aid          17831778\n",
       "Specialized aid     2269762\n",
       "Name: Medical_care, dtype: int64"
      ]
     },
     "execution_count": 24,
     "metadata": {},
     "output_type": "execute_result"
    }
   ],
   "source": [
    "df['Medical_care'].value_counts()"
   ]
  },
  {
   "cell_type": "code",
   "execution_count": 25,
   "id": "2398e35b",
   "metadata": {},
   "outputs": [
    {
     "data": {
      "text/plain": [
       "Kyiv City           2683073\n",
       "Dnipropetrovs'k     1839391\n",
       "Kharkiv             1389325\n",
       "L'viv               1318493\n",
       "Kyiv                1165161\n",
       "Odesa               1152187\n",
       "Poltava              857821\n",
       "Zaporizhzhya         794943\n",
       "Donets'k             735379\n",
       "Vinnytsya            733631\n",
       "Cherkasy             657155\n",
       "Zhytomyr             615998\n",
       "Sumy                 609034\n",
       "Khmel'nyts'kyy       606784\n",
       "Ivano-Frankivs'k     554413\n",
       "Chernihiv            532703\n",
       "Mykolayiv            531729\n",
       "Kherson              491017\n",
       "Rivne                480094\n",
       "Ternopil'            459859\n",
       "Transcarpathia       407456\n",
       "Kirovohrad           401820\n",
       "Volyn                401602\n",
       "Chernivtsi           377237\n",
       "Luhans'k             305235\n",
       "Name: Region, dtype: int64"
      ]
     },
     "execution_count": 25,
     "metadata": {},
     "output_type": "execute_result"
    }
   ],
   "source": [
    "df['Region'].value_counts()"
   ]
  },
  {
   "cell_type": "markdown",
   "id": "733f54c3",
   "metadata": {},
   "source": [
    "# 2. Data Preparation"
   ]
  },
  {
   "cell_type": "code",
   "execution_count": null,
   "id": "22e759b8",
   "metadata": {},
   "outputs": [],
   "source": []
  },
  {
   "cell_type": "code",
   "execution_count": null,
   "id": "e30f4d66",
   "metadata": {},
   "outputs": [],
   "source": []
  },
  {
   "cell_type": "code",
   "execution_count": null,
   "id": "843c0181",
   "metadata": {},
   "outputs": [],
   "source": []
  },
  {
   "cell_type": "code",
   "execution_count": null,
   "id": "8d0634ec",
   "metadata": {},
   "outputs": [],
   "source": []
  },
  {
   "cell_type": "code",
   "execution_count": null,
   "id": "3f238eec",
   "metadata": {},
   "outputs": [],
   "source": []
  },
  {
   "cell_type": "code",
   "execution_count": null,
   "id": "dec89278",
   "metadata": {},
   "outputs": [],
   "source": []
  },
  {
   "cell_type": "code",
   "execution_count": null,
   "id": "0f333d1e",
   "metadata": {},
   "outputs": [],
   "source": []
  },
  {
   "cell_type": "code",
   "execution_count": null,
   "id": "0f9a58f8",
   "metadata": {},
   "outputs": [],
   "source": []
  },
  {
   "cell_type": "code",
   "execution_count": null,
   "id": "070f1c21",
   "metadata": {},
   "outputs": [],
   "source": []
  },
  {
   "cell_type": "code",
   "execution_count": null,
   "id": "37d271b5",
   "metadata": {},
   "outputs": [],
   "source": []
  },
  {
   "cell_type": "code",
   "execution_count": null,
   "id": "41e35af1",
   "metadata": {},
   "outputs": [],
   "source": []
  },
  {
   "cell_type": "code",
   "execution_count": null,
   "id": "fef64845",
   "metadata": {},
   "outputs": [],
   "source": []
  },
  {
   "cell_type": "code",
   "execution_count": null,
   "id": "5439152f",
   "metadata": {},
   "outputs": [],
   "source": []
  },
  {
   "cell_type": "code",
   "execution_count": null,
   "id": "193f5470",
   "metadata": {},
   "outputs": [],
   "source": []
  },
  {
   "cell_type": "code",
   "execution_count": null,
   "id": "a21b532a",
   "metadata": {},
   "outputs": [],
   "source": []
  },
  {
   "cell_type": "code",
   "execution_count": null,
   "id": "dfa0ab2e",
   "metadata": {},
   "outputs": [],
   "source": []
  },
  {
   "cell_type": "code",
   "execution_count": null,
   "id": "8048ffb5",
   "metadata": {},
   "outputs": [],
   "source": []
  },
  {
   "cell_type": "code",
   "execution_count": null,
   "id": "e6697b4a",
   "metadata": {},
   "outputs": [],
   "source": []
  },
  {
   "cell_type": "code",
   "execution_count": null,
   "id": "d16eaf76",
   "metadata": {},
   "outputs": [],
   "source": []
  },
  {
   "cell_type": "code",
   "execution_count": null,
   "id": "ecd1bec7",
   "metadata": {},
   "outputs": [],
   "source": []
  }
 ],
 "metadata": {
  "kernelspec": {
   "display_name": "Python 3 (ipykernel)",
   "language": "python",
   "name": "python3"
  },
  "language_info": {
   "codemirror_mode": {
    "name": "ipython",
    "version": 3
   },
   "file_extension": ".py",
   "mimetype": "text/x-python",
   "name": "python",
   "nbconvert_exporter": "python",
   "pygments_lexer": "ipython3",
   "version": "3.8.9"
  }
 },
 "nbformat": 4,
 "nbformat_minor": 5
}
