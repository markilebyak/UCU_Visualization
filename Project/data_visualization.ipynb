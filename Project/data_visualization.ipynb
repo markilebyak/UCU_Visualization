{
 "cells": [
  {
   "cell_type": "markdown",
   "id": "d162e20e",
   "metadata": {},
   "source": [
    "##### Import needed libraries and set needed options"
   ]
  },
  {
   "cell_type": "code",
   "execution_count": 1,
   "id": "94da2a97",
   "metadata": {},
   "outputs": [],
   "source": [
    "import altair as alt\n",
    "import pandas as pd\n",
    "import numpy as np\n",
    "import geopandas as gpd\n",
    "\n",
    "pd.set_option('display.max_colwidth', None)"
   ]
  },
  {
   "cell_type": "markdown",
   "id": "651243af",
   "metadata": {},
   "source": [
    "# Final project for Visualization course UCU"
   ]
  },
  {
   "cell_type": "code",
   "execution_count": null,
   "id": "d845eaa5",
   "metadata": {},
   "outputs": [],
   "source": []
  },
  {
   "cell_type": "code",
   "execution_count": null,
   "id": "caeaae0e",
   "metadata": {},
   "outputs": [],
   "source": []
  },
  {
   "cell_type": "markdown",
   "id": "30bfb308",
   "metadata": {},
   "source": [
    "# 1. Data investigation"
   ]
  },
  {
   "cell_type": "code",
   "execution_count": 2,
   "id": "870a93c6",
   "metadata": {},
   "outputs": [],
   "source": [
    "df = pd.read_csv('./data/cleaned_covid_data.csv')"
   ]
  },
  {
   "cell_type": "code",
   "execution_count": 3,
   "id": "611294c5",
   "metadata": {},
   "outputs": [
    {
     "name": "stdout",
     "output_type": "stream",
     "text": [
      "<class 'pandas.core.frame.DataFrame'>\n",
      "RangeIndex: 19527207 entries, 0 to 19527206\n",
      "Data columns (total 7 columns):\n",
      " #   Column                       Dtype \n",
      "---  ------                       ----- \n",
      " 0   Age_group                    object\n",
      " 1   Gender                       object\n",
      " 2   Vaccination_sequence_number  int64 \n",
      " 3   Vaccination_phase            int64 \n",
      " 4   Vaccination_needed_doses     int64 \n",
      " 5   Medical_care                 object\n",
      " 6   Region                       object\n",
      "dtypes: int64(3), object(4)\n",
      "memory usage: 1.0+ GB\n"
     ]
    }
   ],
   "source": [
    "df.info()"
   ]
  },
  {
   "cell_type": "code",
   "execution_count": 4,
   "id": "5dc1835a",
   "metadata": {},
   "outputs": [
    {
     "data": {
      "text/html": [
       "<div>\n",
       "<style scoped>\n",
       "    .dataframe tbody tr th:only-of-type {\n",
       "        vertical-align: middle;\n",
       "    }\n",
       "\n",
       "    .dataframe tbody tr th {\n",
       "        vertical-align: top;\n",
       "    }\n",
       "\n",
       "    .dataframe thead th {\n",
       "        text-align: right;\n",
       "    }\n",
       "</style>\n",
       "<table border=\"1\" class=\"dataframe\">\n",
       "  <thead>\n",
       "    <tr style=\"text-align: right;\">\n",
       "      <th></th>\n",
       "      <th>Age_group</th>\n",
       "      <th>Gender</th>\n",
       "      <th>Vaccination_sequence_number</th>\n",
       "      <th>Vaccination_phase</th>\n",
       "      <th>Vaccination_needed_doses</th>\n",
       "      <th>Medical_care</th>\n",
       "      <th>Region</th>\n",
       "    </tr>\n",
       "  </thead>\n",
       "  <tbody>\n",
       "    <tr>\n",
       "      <th>0</th>\n",
       "      <td>46-50</td>\n",
       "      <td>Female</td>\n",
       "      <td>2</td>\n",
       "      <td>1</td>\n",
       "      <td>1</td>\n",
       "      <td>First aid</td>\n",
       "      <td>Chernihiv</td>\n",
       "    </tr>\n",
       "    <tr>\n",
       "      <th>1</th>\n",
       "      <td>26-30</td>\n",
       "      <td>Female</td>\n",
       "      <td>2</td>\n",
       "      <td>1</td>\n",
       "      <td>1</td>\n",
       "      <td>First aid</td>\n",
       "      <td>Chernihiv</td>\n",
       "    </tr>\n",
       "    <tr>\n",
       "      <th>2</th>\n",
       "      <td>36-40</td>\n",
       "      <td>Male</td>\n",
       "      <td>2</td>\n",
       "      <td>1</td>\n",
       "      <td>1</td>\n",
       "      <td>First aid</td>\n",
       "      <td>Chernihiv</td>\n",
       "    </tr>\n",
       "    <tr>\n",
       "      <th>3</th>\n",
       "      <td>46-50</td>\n",
       "      <td>Male</td>\n",
       "      <td>2</td>\n",
       "      <td>1</td>\n",
       "      <td>1</td>\n",
       "      <td>First aid</td>\n",
       "      <td>Chernihiv</td>\n",
       "    </tr>\n",
       "    <tr>\n",
       "      <th>4</th>\n",
       "      <td>41-45</td>\n",
       "      <td>Male</td>\n",
       "      <td>1</td>\n",
       "      <td>1</td>\n",
       "      <td>2</td>\n",
       "      <td>First aid</td>\n",
       "      <td>Zhytomyr</td>\n",
       "    </tr>\n",
       "  </tbody>\n",
       "</table>\n",
       "</div>"
      ],
      "text/plain": [
       "  Age_group  Gender  Vaccination_sequence_number  Vaccination_phase  \\\n",
       "0     46-50  Female                            2                  1   \n",
       "1     26-30  Female                            2                  1   \n",
       "2     36-40    Male                            2                  1   \n",
       "3     46-50    Male                            2                  1   \n",
       "4     41-45    Male                            1                  1   \n",
       "\n",
       "   Vaccination_needed_doses Medical_care     Region  \n",
       "0                         1    First aid  Chernihiv  \n",
       "1                         1    First aid  Chernihiv  \n",
       "2                         1    First aid  Chernihiv  \n",
       "3                         1    First aid  Chernihiv  \n",
       "4                         2    First aid   Zhytomyr  "
      ]
     },
     "execution_count": 4,
     "metadata": {},
     "output_type": "execute_result"
    }
   ],
   "source": [
    "df.head()"
   ]
  },
  {
   "cell_type": "code",
   "execution_count": 5,
   "id": "a8139423",
   "metadata": {},
   "outputs": [
    {
     "data": {
      "text/plain": [
       "Age_group                      0\n",
       "Gender                         0\n",
       "Vaccination_sequence_number    0\n",
       "Vaccination_phase              0\n",
       "Vaccination_needed_doses       0\n",
       "Medical_care                   0\n",
       "Region                         0\n",
       "dtype: int64"
      ]
     },
     "execution_count": 5,
     "metadata": {},
     "output_type": "execute_result"
    }
   ],
   "source": [
    "df.isna().sum()"
   ]
  },
  {
   "cell_type": "code",
   "execution_count": 6,
   "id": "51393476",
   "metadata": {},
   "outputs": [
    {
     "data": {
      "text/plain": [
       "36-40    2097774\n",
       "41-45    2007185\n",
       "31-35    1980090\n",
       "46-50    1966861\n",
       "56-60    1867553\n",
       "51-55    1811724\n",
       "61-65    1669859\n",
       "26-30    1511667\n",
       "66-70    1259659\n",
       "21-25    1198203\n",
       "71-75     818364\n",
       "16-20     678186\n",
       "76-80     329457\n",
       "81-85     246067\n",
       "86-90      49719\n",
       "11-15      16091\n",
       "91-95      15094\n",
       "96+         2184\n",
       "5-10         888\n",
       "0-4          582\n",
       "Name: Age_group, dtype: int64"
      ]
     },
     "execution_count": 6,
     "metadata": {},
     "output_type": "execute_result"
    }
   ],
   "source": [
    "df['Age_group'].value_counts()"
   ]
  },
  {
   "cell_type": "code",
   "execution_count": 7,
   "id": "0e31db8a",
   "metadata": {},
   "outputs": [
    {
     "data": {
      "text/plain": [
       "Female    11158648\n",
       "Male       8368559\n",
       "Name: Gender, dtype: int64"
      ]
     },
     "execution_count": 7,
     "metadata": {},
     "output_type": "execute_result"
    }
   ],
   "source": [
    "df['Gender'].value_counts()"
   ]
  },
  {
   "cell_type": "code",
   "execution_count": 8,
   "id": "e332a472",
   "metadata": {},
   "outputs": [
    {
     "data": {
      "text/plain": [
       "1     11589593\n",
       "2      7903401\n",
       "3         8331\n",
       "4         5708\n",
       "5         5472\n",
       "6         4587\n",
       "7         2680\n",
       "8         2601\n",
       "9         2471\n",
       "10        2363\n",
       "Name: Vaccination_sequence_number, dtype: int64"
      ]
     },
     "execution_count": 8,
     "metadata": {},
     "output_type": "execute_result"
    }
   ],
   "source": [
    "df['Vaccination_sequence_number'].value_counts()"
   ]
  },
  {
   "cell_type": "code",
   "execution_count": 9,
   "id": "baa3e4a7",
   "metadata": {},
   "outputs": [
    {
     "data": {
      "text/plain": [
       "1    7252258\n",
       "5    5845567\n",
       "2    5005049\n",
       "3     870333\n",
       "4     554000\n",
       "Name: Vaccination_phase, dtype: int64"
      ]
     },
     "execution_count": 9,
     "metadata": {},
     "output_type": "execute_result"
    }
   ],
   "source": [
    "df['Vaccination_phase'].value_counts()"
   ]
  },
  {
   "cell_type": "code",
   "execution_count": 10,
   "id": "351514e8",
   "metadata": {},
   "outputs": [
    {
     "data": {
      "text/plain": [
       "2     19371659\n",
       "1       149884\n",
       "3         1932\n",
       "5         1669\n",
       "10        1117\n",
       "6          614\n",
       "4          275\n",
       "9           24\n",
       "7           18\n",
       "8           15\n",
       "Name: Vaccination_needed_doses, dtype: int64"
      ]
     },
     "execution_count": 10,
     "metadata": {},
     "output_type": "execute_result"
    }
   ],
   "source": [
    "df['Vaccination_needed_doses'].value_counts()"
   ]
  },
  {
   "cell_type": "code",
   "execution_count": 11,
   "id": "1972bc12",
   "metadata": {},
   "outputs": [
    {
     "data": {
      "text/plain": [
       "First aid          17320824\n",
       "Specialized aid     2206383\n",
       "Name: Medical_care, dtype: int64"
      ]
     },
     "execution_count": 11,
     "metadata": {},
     "output_type": "execute_result"
    }
   ],
   "source": [
    "df['Medical_care'].value_counts()"
   ]
  },
  {
   "cell_type": "code",
   "execution_count": 12,
   "id": "2398e35b",
   "metadata": {},
   "outputs": [
    {
     "data": {
      "text/plain": [
       "Kyiv City           2609359\n",
       "Dnipropetrovs'k     1786739\n",
       "Kharkiv             1350748\n",
       "L'viv               1279913\n",
       "Kyiv                1132498\n",
       "Odesa               1118971\n",
       "Poltava              833845\n",
       "Zaporizhzhya         772089\n",
       "Donets'k             715039\n",
       "Vinnytsya            712712\n",
       "Cherkasy             638112\n",
       "Zhytomyr             598345\n",
       "Sumy                 591403\n",
       "Khmel'nyts'kyy       588767\n",
       "Ivano-Frankivs'k     537413\n",
       "Chernihiv            517601\n",
       "Mykolayiv            516421\n",
       "Kherson              476657\n",
       "Rivne                465955\n",
       "Ternopil'            446144\n",
       "Transcarpathia       395465\n",
       "Kirovohrad           390107\n",
       "Volyn                389918\n",
       "Chernivtsi           366120\n",
       "Luhans'k             296866\n",
       "Name: Region, dtype: int64"
      ]
     },
     "execution_count": 12,
     "metadata": {},
     "output_type": "execute_result"
    }
   ],
   "source": [
    "df['Region'].value_counts()"
   ]
  },
  {
   "cell_type": "code",
   "execution_count": null,
   "id": "df646e73",
   "metadata": {},
   "outputs": [],
   "source": []
  },
  {
   "cell_type": "code",
   "execution_count": null,
   "id": "7c133e22",
   "metadata": {},
   "outputs": [],
   "source": []
  },
  {
   "cell_type": "code",
   "execution_count": null,
   "id": "2d69bb6a",
   "metadata": {},
   "outputs": [],
   "source": []
  },
  {
   "cell_type": "markdown",
   "id": "733f54c3",
   "metadata": {},
   "source": [
    "# 2. Data Preparation"
   ]
  },
  {
   "cell_type": "code",
   "execution_count": null,
   "id": "22e759b8",
   "metadata": {},
   "outputs": [],
   "source": []
  },
  {
   "cell_type": "code",
   "execution_count": null,
   "id": "e30f4d66",
   "metadata": {},
   "outputs": [],
   "source": []
  },
  {
   "cell_type": "code",
   "execution_count": null,
   "id": "843c0181",
   "metadata": {},
   "outputs": [],
   "source": []
  },
  {
   "cell_type": "code",
   "execution_count": null,
   "id": "8d0634ec",
   "metadata": {},
   "outputs": [],
   "source": []
  },
  {
   "cell_type": "code",
   "execution_count": null,
   "id": "3f238eec",
   "metadata": {},
   "outputs": [],
   "source": []
  },
  {
   "cell_type": "code",
   "execution_count": null,
   "id": "dec89278",
   "metadata": {},
   "outputs": [],
   "source": []
  },
  {
   "cell_type": "code",
   "execution_count": null,
   "id": "0f333d1e",
   "metadata": {},
   "outputs": [],
   "source": []
  },
  {
   "cell_type": "code",
   "execution_count": null,
   "id": "0f9a58f8",
   "metadata": {},
   "outputs": [],
   "source": []
  },
  {
   "cell_type": "code",
   "execution_count": null,
   "id": "070f1c21",
   "metadata": {},
   "outputs": [],
   "source": []
  },
  {
   "cell_type": "code",
   "execution_count": null,
   "id": "37d271b5",
   "metadata": {},
   "outputs": [],
   "source": []
  },
  {
   "cell_type": "code",
   "execution_count": null,
   "id": "41e35af1",
   "metadata": {},
   "outputs": [],
   "source": []
  },
  {
   "cell_type": "code",
   "execution_count": null,
   "id": "fef64845",
   "metadata": {},
   "outputs": [],
   "source": []
  },
  {
   "cell_type": "code",
   "execution_count": null,
   "id": "5439152f",
   "metadata": {},
   "outputs": [],
   "source": []
  },
  {
   "cell_type": "code",
   "execution_count": null,
   "id": "193f5470",
   "metadata": {},
   "outputs": [],
   "source": []
  },
  {
   "cell_type": "code",
   "execution_count": null,
   "id": "a21b532a",
   "metadata": {},
   "outputs": [],
   "source": []
  },
  {
   "cell_type": "code",
   "execution_count": null,
   "id": "dfa0ab2e",
   "metadata": {},
   "outputs": [],
   "source": []
  },
  {
   "cell_type": "code",
   "execution_count": null,
   "id": "8048ffb5",
   "metadata": {},
   "outputs": [],
   "source": []
  },
  {
   "cell_type": "code",
   "execution_count": null,
   "id": "e6697b4a",
   "metadata": {},
   "outputs": [],
   "source": []
  },
  {
   "cell_type": "code",
   "execution_count": null,
   "id": "d16eaf76",
   "metadata": {},
   "outputs": [],
   "source": []
  },
  {
   "cell_type": "code",
   "execution_count": null,
   "id": "ecd1bec7",
   "metadata": {},
   "outputs": [],
   "source": []
  }
 ],
 "metadata": {
  "kernelspec": {
   "display_name": "Python 3 (ipykernel)",
   "language": "python",
   "name": "python3"
  },
  "language_info": {
   "codemirror_mode": {
    "name": "ipython",
    "version": 3
   },
   "file_extension": ".py",
   "mimetype": "text/x-python",
   "name": "python",
   "nbconvert_exporter": "python",
   "pygments_lexer": "ipython3",
   "version": "3.8.9"
  }
 },
 "nbformat": 4,
 "nbformat_minor": 5
}
