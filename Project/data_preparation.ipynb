{
 "cells": [
  {
   "cell_type": "markdown",
   "id": "a392b9ed",
   "metadata": {},
   "source": [
    "##### Import needed libraries and set needed options"
   ]
  },
  {
   "cell_type": "code",
   "execution_count": 1,
   "id": "7a52c9e9",
   "metadata": {},
   "outputs": [],
   "source": [
    "import altair as alt\n",
    "import pandas as pd\n",
    "import numpy as np\n",
    "import geopandas as gpd\n",
    "import json\n",
    "\n",
    "from pandas.io.json import json_normalize\n",
    "pd.set_option('display.max_colwidth', None)"
   ]
  },
  {
   "cell_type": "markdown",
   "id": "c774fd03",
   "metadata": {},
   "source": [
    "# Data preparation"
   ]
  },
  {
   "cell_type": "markdown",
   "id": "48055ccf",
   "metadata": {},
   "source": [
    "## 1. Intro"
   ]
  },
  {
   "cell_type": "markdown",
   "id": "7bc94cbc",
   "metadata": {},
   "source": [
    "### This project uses datasets from: https://data.gov.ua/en/dataset/3fcbfe9e-7cec-4f69-b9ca-be49daae2369 <br>\n",
    "### Download them from that URL, put in \"data\" folder and then run<br>\n",
    "\n",
    "### There are **4 files with data**:\n",
    "* **immunization_covid19_2021_16.11.2021.csv**   - contains records of vaccinations\n",
    "* **immunization_legal_entities_info.csv**       - contains infromation about institutions of vaccination\n",
    "* **immunization_vaccine_codes.csv**             - contains information about vaccines\n",
    "* **opis-atributiv-naboru-danikh.xlsx**          - contains description of attributes for above 3 files"
   ]
  },
  {
   "cell_type": "markdown",
   "id": "3f7d284a",
   "metadata": {},
   "source": [
    "### From opis-atributiv-naboru-danikh.xlsx we get such description of immunization_covid19_2021_16.11.2021.csv columns:\n",
    "\n",
    "1) **temp_immunization_id** - Тимчасовий ідентифікатор імунізації<br>\n",
    "2) **legal_entity_id** - Ідентифікатор надавача послуг в ЕСОЗ<br>\n",
    "3) **division_id** - Ідентифікатор місця надання послуг в ЕСОЗ<br>\n",
    "4) **status** - Статус запису про вакцинацію<br>\n",
    "5) **not_given** - Вакцинацію не проведено<br>\n",
    "6) **vaccine_code** - Код вакцини<br>\n",
    "7) **immunization_date** - Дата проведення вакцинації<br>\n",
    "8) **patient_age_group** - Вікова група пацієнта<br>\n",
    "9) **patient_gender** - Стать пацієнта<br>\n",
    "10) **manufacturer** - Назва виробника вакцини<br>\n",
    "11) **lot_number** - Серія (номер партії) вакцини<br>\n",
    "12) **expiration_date** - Термін придатності вакцини<br>\n",
    "13) **dose_quantity_unit** - Одиниці виміру введенної дози<br>\n",
    "14) **dose_quantity_value** - Розмір введенної дози<br>\n",
    "15) **vaccination_protocols** - Інформація з протоколу НСЗУ<br>\n",
    "16) **vaccination_protocols.dose_sequence** - Порядковий номер введеної дози<br>\n",
    "17) **vaccination_protocols.series** - Етап вакцинації<br>\n",
    "18) **vaccination_protocols.series_doses** - Кількість доз за протоколом<br>\n",
    "19) **vaccination_protocols.target_diseases** - Хвороба(-би) проти якої проведено вакцинацію<br>\n",
    "20) **inserted_at** - Дата внесення в ЕСОЗ<br>\n",
    "21) **updated_at** - Дата оновлення в ЕСОЗ<br>"
   ]
  },
  {
   "cell_type": "markdown",
   "id": "639760f0",
   "metadata": {},
   "source": [
    "### From opis-atributiv-naboru-danikh.xlsx we get such description of immunization_legal_entities_info.csv columns:\n",
    "\n",
    "1) **legal_entity_id** - Ідентифікатор надавача послуг в ЕСОЗ<br>\n",
    "2) **legal_entity_name** - Назва надавача послуг<br>\n",
    "3) **legal_entity_edrpou** - Код ЄДРПОУ надавача послуг<br>\n",
    "4) **care_type** - Тип медичної допомоги<br>\n",
    "5) **property_type** - Форма власності<br>\n",
    "6) **legal_entity_email** - Електронна адреса надавача послуг<br>\n",
    "7) **legal_entity_phone** - Телефон надавача послуг<br>\n",
    "8) **legal_entity_owner_name** - Керівник<br>\n",
    "9) **registration_area** - Область реєстрації<br>\n",
    "10) **registration_settlement** - Населений пункт реєстрації<br>\n",
    "11) **registration_addresses** - Адреса реєстрації надавача послуг<br>\n",
    "12) **lng** - Довгота (геокоординати місця реєстрації)<br>\n",
    "13) **lat** - Широта (геокоординати місця реєстрації)<br>"
   ]
  },
  {
   "cell_type": "markdown",
   "id": "d2fe8454",
   "metadata": {},
   "source": [
    "### From opis-atributiv-naboru-danikh.xlsx we get such description of immunization_vaccine_codes.csv columns:\n",
    "\n",
    "1) **vaccine_code** - Код вакцини в ЕСОЗ<br>\n",
    "2) **vaccine_name** - Назва вакцини<br>"
   ]
  },
  {
   "cell_type": "code",
   "execution_count": 2,
   "id": "87d4f8e7",
   "metadata": {},
   "outputs": [],
   "source": [
    "# The dataset is too big, you should download it by yourself and put it to \"data\" folder and run\n",
    "# Dataset URL: \n",
    "# https://data.gov.ua/dataset/4cced549-1a03-4e0b-afbb-461febb26007/resource/f51566ef-dd6a-47f1-8827-6d5e5ca17fda/download/immunization_covid19_2021.zip\n",
    "\n",
    "df_vaccination_entries = pd.read_csv('./data/immunization_covid19_2021_16.11.2021.csv')"
   ]
  },
  {
   "cell_type": "code",
   "execution_count": 3,
   "id": "20151ed3",
   "metadata": {},
   "outputs": [],
   "source": [
    "# The dataset is too big, you should download it by yourself and put it to \"data\" folder and run\n",
    "# Dataset URL: \n",
    "# https://data.gov.ua/dataset/4cced549-1a03-4e0b-afbb-461febb26007/resource/5906aa4e-4974-486f-8477-b4749d98542e/download/immunization_legal_entities_info.csv\n",
    "\n",
    "df_vaccination_location = pd.read_csv('./data/immunization_legal_entities_info.csv')"
   ]
  },
  {
   "cell_type": "code",
   "execution_count": 4,
   "id": "0d0f7bec",
   "metadata": {},
   "outputs": [],
   "source": [
    "# The dataset is too big, you should download it by yourself and put it to \"data\" folder and run\n",
    "# Dataset URL: \n",
    "# https://data.gov.ua/dataset/4cced549-1a03-4e0b-afbb-461febb26007/resource/b4d8df31-8ecc-4646-a373-95b756fde8ea/download/immunization_vaccine_codes.csv \n",
    "\n",
    "df_vaccine_info = pd.read_csv('./data/immunization_vaccine_codes.csv')"
   ]
  },
  {
   "cell_type": "code",
   "execution_count": 5,
   "id": "15552b16",
   "metadata": {},
   "outputs": [],
   "source": [
    "geo = gpd.read_file('./data/ukraine.json')   # Just to add region names for merging when visualizing"
   ]
  },
  {
   "cell_type": "markdown",
   "id": "057e36fe",
   "metadata": {},
   "source": [
    "## 2.1 Dataset Info (immunization_covid19_2021_16.11.2021.csv)"
   ]
  },
  {
   "cell_type": "code",
   "execution_count": 6,
   "id": "7042cd68",
   "metadata": {},
   "outputs": [
    {
     "name": "stdout",
     "output_type": "stream",
     "text": [
      "<class 'pandas.core.frame.DataFrame'>\n",
      "RangeIndex: 20889909 entries, 0 to 20889908\n",
      "Data columns (total 17 columns):\n",
      " #   Column                 Dtype  \n",
      "---  ------                 -----  \n",
      " 0   temp_immunization_id   int64  \n",
      " 1   legal_entity_id        object \n",
      " 2   division_id            object \n",
      " 3   status                 object \n",
      " 4   not_given              bool   \n",
      " 5   vaccine_code           object \n",
      " 6   immunization_date      object \n",
      " 7   patient_age_group      object \n",
      " 8   patient_gender         object \n",
      " 9   manufacturer           object \n",
      " 10  lot_number             object \n",
      " 11  expiration_date        object \n",
      " 12  dose_quantity_unit     object \n",
      " 13  dose_quantity_value    float64\n",
      " 14  vaccination_protocols  object \n",
      " 15  inserted_at            object \n",
      " 16  updated_at             object \n",
      "dtypes: bool(1), float64(1), int64(1), object(14)\n",
      "memory usage: 2.5+ GB\n"
     ]
    }
   ],
   "source": [
    "df_vaccination_entries.info()"
   ]
  },
  {
   "cell_type": "code",
   "execution_count": 7,
   "id": "b5c0841d",
   "metadata": {},
   "outputs": [],
   "source": [
    "# We need vaccination_protocols data, so drop NaN\n",
    "df_vaccination_entries = df_vaccination_entries[df_vaccination_entries['vaccination_protocols'].notna()]"
   ]
  },
  {
   "cell_type": "code",
   "execution_count": 8,
   "id": "6c5292a8",
   "metadata": {},
   "outputs": [],
   "source": [
    "# We need to convert vaccination_protocols JSON to columns. Firstly we get dict from array\n",
    "df_1_protocols = df_vaccination_entries['vaccination_protocols']"
   ]
  },
  {
   "cell_type": "code",
   "execution_count": 9,
   "id": "89be483c",
   "metadata": {},
   "outputs": [],
   "source": [
    "# We need to convert vaccination_protocols JSON to columns. Firstly we get dict from array\n",
    "df_1_protocols = pd.json_normalize(df_1_protocols.apply(json.loads))"
   ]
  },
  {
   "cell_type": "code",
   "execution_count": 10,
   "id": "0b4e33e8",
   "metadata": {},
   "outputs": [],
   "source": [
    "# We need to convert vaccination_protocols JSON to columns. Secondly we get columns from dict\n",
    "df_1_protocols = df_1_protocols[0].apply(pd.Series)"
   ]
  },
  {
   "cell_type": "code",
   "execution_count": 11,
   "id": "41da3661",
   "metadata": {},
   "outputs": [],
   "source": [
    "df_vaccination_entries['dose_sequence'] = df_1_protocols['dose_sequence']\n",
    "df_vaccination_entries['series'] = df_1_protocols['series']\n",
    "df_vaccination_entries['series_doses'] = df_1_protocols['series_doses']"
   ]
  },
  {
   "cell_type": "code",
   "execution_count": 12,
   "id": "d86c1a0d",
   "metadata": {},
   "outputs": [
    {
     "data": {
      "text/html": [
       "<div>\n",
       "<style scoped>\n",
       "    .dataframe tbody tr th:only-of-type {\n",
       "        vertical-align: middle;\n",
       "    }\n",
       "\n",
       "    .dataframe tbody tr th {\n",
       "        vertical-align: top;\n",
       "    }\n",
       "\n",
       "    .dataframe thead th {\n",
       "        text-align: right;\n",
       "    }\n",
       "</style>\n",
       "<table border=\"1\" class=\"dataframe\">\n",
       "  <thead>\n",
       "    <tr style=\"text-align: right;\">\n",
       "      <th></th>\n",
       "      <th>temp_immunization_id</th>\n",
       "      <th>legal_entity_id</th>\n",
       "      <th>division_id</th>\n",
       "      <th>status</th>\n",
       "      <th>not_given</th>\n",
       "      <th>vaccine_code</th>\n",
       "      <th>immunization_date</th>\n",
       "      <th>patient_age_group</th>\n",
       "      <th>patient_gender</th>\n",
       "      <th>manufacturer</th>\n",
       "      <th>lot_number</th>\n",
       "      <th>expiration_date</th>\n",
       "      <th>dose_quantity_unit</th>\n",
       "      <th>dose_quantity_value</th>\n",
       "      <th>vaccination_protocols</th>\n",
       "      <th>inserted_at</th>\n",
       "      <th>updated_at</th>\n",
       "      <th>dose_sequence</th>\n",
       "      <th>series</th>\n",
       "      <th>series_doses</th>\n",
       "    </tr>\n",
       "  </thead>\n",
       "  <tbody>\n",
       "    <tr>\n",
       "      <th>0</th>\n",
       "      <td>1</td>\n",
       "      <td>35c628e2-c42d-4d0d-b724-33c1b4db39f7</td>\n",
       "      <td>NaN</td>\n",
       "      <td>Запис внесено помилково</td>\n",
       "      <td>False</td>\n",
       "      <td>SarsCov2_nRVv</td>\n",
       "      <td>2021-02-23</td>\n",
       "      <td>41-45 р.</td>\n",
       "      <td>Чоловіча</td>\n",
       "      <td>СЕРУМ ІНСТІТЬЮТ ОФ ІНДІА ПВТ.ЛТД. ІНДІЯ</td>\n",
       "      <td>NaN</td>\n",
       "      <td>NaN</td>\n",
       "      <td>ML</td>\n",
       "      <td>1.0</td>\n",
       "      <td>[{\"dose_sequence\" : null, \"series\" : null, \"series_doses\" : null, \"target_diseases\" : \"Коронавірусна хвороба (COVID-19)\"}]</td>\n",
       "      <td>2021-02-23</td>\n",
       "      <td>2021-02-23</td>\n",
       "      <td>None</td>\n",
       "      <td>None</td>\n",
       "      <td>None</td>\n",
       "    </tr>\n",
       "    <tr>\n",
       "      <th>1</th>\n",
       "      <td>2</td>\n",
       "      <td>254ff4d8-5e2f-4db6-9cae-38edabe94729</td>\n",
       "      <td>59d84164-9546-4aa9-9773-2a5248b046e9</td>\n",
       "      <td>Запис коректний</td>\n",
       "      <td>False</td>\n",
       "      <td>SarsCov2_nRVv</td>\n",
       "      <td>2021-02-24</td>\n",
       "      <td>46-50 р.</td>\n",
       "      <td>Жіноча</td>\n",
       "      <td>СЕРУМ ІНСТІТЬЮТ ОФ ІНДІА</td>\n",
       "      <td>4120Z027</td>\n",
       "      <td>2021-06-23</td>\n",
       "      <td>ML</td>\n",
       "      <td>1.0</td>\n",
       "      <td>[{\"dose_sequence\" : \"2\", \"series\" : \"1\", \"series_doses\" : \"1\", \"target_diseases\" : \"Коронавірусна хвороба (COVID-19)\"}]</td>\n",
       "      <td>2021-02-24</td>\n",
       "      <td>2021-02-24</td>\n",
       "      <td>2</td>\n",
       "      <td>1</td>\n",
       "      <td>1</td>\n",
       "    </tr>\n",
       "    <tr>\n",
       "      <th>2</th>\n",
       "      <td>3</td>\n",
       "      <td>254ff4d8-5e2f-4db6-9cae-38edabe94729</td>\n",
       "      <td>59d84164-9546-4aa9-9773-2a5248b046e9</td>\n",
       "      <td>Запис внесено помилково</td>\n",
       "      <td>False</td>\n",
       "      <td>SarsCov2_nRVv</td>\n",
       "      <td>2021-02-24</td>\n",
       "      <td>51-55 р.</td>\n",
       "      <td>Жіноча</td>\n",
       "      <td>СЕРУМ ІНСТІТЬЮТ ОФ ІНДІА</td>\n",
       "      <td>4120Z027</td>\n",
       "      <td>2021-06-23</td>\n",
       "      <td>ML</td>\n",
       "      <td>0.5</td>\n",
       "      <td>[{\"dose_sequence\" : \"2\", \"series\" : null, \"series_doses\" : \"1\", \"target_diseases\" : \"Коронавірусна хвороба (COVID-19)\"}]</td>\n",
       "      <td>2021-02-24</td>\n",
       "      <td>2021-03-29</td>\n",
       "      <td>2</td>\n",
       "      <td>None</td>\n",
       "      <td>1</td>\n",
       "    </tr>\n",
       "  </tbody>\n",
       "</table>\n",
       "</div>"
      ],
      "text/plain": [
       "   temp_immunization_id                       legal_entity_id  \\\n",
       "0                     1  35c628e2-c42d-4d0d-b724-33c1b4db39f7   \n",
       "1                     2  254ff4d8-5e2f-4db6-9cae-38edabe94729   \n",
       "2                     3  254ff4d8-5e2f-4db6-9cae-38edabe94729   \n",
       "\n",
       "                            division_id                   status  not_given  \\\n",
       "0                                   NaN  Запис внесено помилково      False   \n",
       "1  59d84164-9546-4aa9-9773-2a5248b046e9          Запис коректний      False   \n",
       "2  59d84164-9546-4aa9-9773-2a5248b046e9  Запис внесено помилково      False   \n",
       "\n",
       "    vaccine_code immunization_date patient_age_group patient_gender  \\\n",
       "0  SarsCov2_nRVv        2021-02-23          41-45 р.       Чоловіча   \n",
       "1  SarsCov2_nRVv        2021-02-24          46-50 р.         Жіноча   \n",
       "2  SarsCov2_nRVv        2021-02-24          51-55 р.         Жіноча   \n",
       "\n",
       "                              manufacturer lot_number expiration_date  \\\n",
       "0  СЕРУМ ІНСТІТЬЮТ ОФ ІНДІА ПВТ.ЛТД. ІНДІЯ        NaN             NaN   \n",
       "1                 СЕРУМ ІНСТІТЬЮТ ОФ ІНДІА   4120Z027      2021-06-23   \n",
       "2                 СЕРУМ ІНСТІТЬЮТ ОФ ІНДІА   4120Z027      2021-06-23   \n",
       "\n",
       "  dose_quantity_unit  dose_quantity_value  \\\n",
       "0                 ML                  1.0   \n",
       "1                 ML                  1.0   \n",
       "2                 ML                  0.5   \n",
       "\n",
       "                                                                                                        vaccination_protocols  \\\n",
       "0  [{\"dose_sequence\" : null, \"series\" : null, \"series_doses\" : null, \"target_diseases\" : \"Коронавірусна хвороба (COVID-19)\"}]   \n",
       "1     [{\"dose_sequence\" : \"2\", \"series\" : \"1\", \"series_doses\" : \"1\", \"target_diseases\" : \"Коронавірусна хвороба (COVID-19)\"}]   \n",
       "2    [{\"dose_sequence\" : \"2\", \"series\" : null, \"series_doses\" : \"1\", \"target_diseases\" : \"Коронавірусна хвороба (COVID-19)\"}]   \n",
       "\n",
       "  inserted_at  updated_at dose_sequence series series_doses  \n",
       "0  2021-02-23  2021-02-23          None   None         None  \n",
       "1  2021-02-24  2021-02-24             2      1            1  \n",
       "2  2021-02-24  2021-03-29             2   None            1  "
      ]
     },
     "execution_count": 12,
     "metadata": {},
     "output_type": "execute_result"
    }
   ],
   "source": [
    "df_vaccination_entries.head(3)"
   ]
  },
  {
   "cell_type": "code",
   "execution_count": 14,
   "id": "8b3141d4",
   "metadata": {},
   "outputs": [
    {
     "data": {
      "text/plain": [
       "array(['41-45 р.', '46-50 р.', '51-55 р.', '26-30 р.', '36-40 р.',\n",
       "       '31-35 р.', '56-60 р.', '21-25 р.', '66-70 р.', '61-65 р.',\n",
       "       '16-20 р.', '71-75 р.', '76-80 р.', '81-85 р.', '86-00 р.',\n",
       "       '05-10 р.', '11-15 р.', '91-95 р.', '96+ р.', '0-4 р.',\n",
       "       'Уточнюється'], dtype=object)"
      ]
     },
     "execution_count": 14,
     "metadata": {},
     "output_type": "execute_result"
    }
   ],
   "source": [
    "df_vaccination_entries['patient_age_group'].unique()"
   ]
  },
  {
   "cell_type": "code",
   "execution_count": 15,
   "id": "3b41eef1",
   "metadata": {},
   "outputs": [
    {
     "data": {
      "text/plain": [
       "array(['Чоловіча', 'Жіноча', 'Уточнюється'], dtype=object)"
      ]
     },
     "execution_count": 15,
     "metadata": {},
     "output_type": "execute_result"
    }
   ],
   "source": [
    "df_vaccination_entries['patient_gender'].unique()"
   ]
  },
  {
   "cell_type": "code",
   "execution_count": 195,
   "id": "468eea8b",
   "metadata": {},
   "outputs": [
    {
     "name": "stdout",
     "output_type": "stream",
     "text": [
      "[None '2' '1' ... '1564' '12345' nan]\n"
     ]
    }
   ],
   "source": [
    "# As we can see, there is a lot of stupid data, which we will drop later\n",
    "print(df_vaccination_entries['dose_sequence'].unique())"
   ]
  },
  {
   "cell_type": "code",
   "execution_count": 194,
   "id": "d99418ee",
   "metadata": {},
   "outputs": [
    {
     "name": "stdout",
     "output_type": "stream",
     "text": [
      "[None '1' 'Імунізація від COVID, 1 хвиля' '1 етап'\n",
      " 'Ведення першої дози вакцини від COVID-19' 'перший' 'вакцинація '\n",
      " '1 ЕТАП' 'Перший' 'Введення першої дози проти ковід 19' 'Другий'\n",
      " 'перший етап' 'Введення першої дози вакцини від COVID-19' '1-й етап'\n",
      " 'Первинна' 'Введення першої дози вакцини від COVID-19  '\n",
      " 'Введення першої дози вакцини від Covid-19'\n",
      " 'Введення першої дози вакцини від COVID-19 '\n",
      " 'Введення першої дози вакцини від COVID-19  \\n'\n",
      " 'Ведення першої дози від Covil 19']\n"
     ]
    }
   ],
   "source": [
    "# As we can see, there is a lot of stupid data, which we will rename later for usage or drop\n",
    "print(df_vaccination_entries['series'].unique()[0:20])"
   ]
  },
  {
   "cell_type": "code",
   "execution_count": 18,
   "id": "a5af6411",
   "metadata": {},
   "outputs": [
    {
     "data": {
      "text/plain": [
       "array([None, '1', '2', '11', '3', '10', '5', '4', '21', '22', '20', '9',\n",
       "       '25', '7', '12', '6', '8', '13', '14', '15', '16', '17', '19',\n",
       "       '18', '110', '51', '32', '40', '23', '24', '26', '27', '28', '29',\n",
       "       '30', '213', '216', '202103003', '52', '38', '1092021', '45',\n",
       "       '22222', '219', '222', '30092021', '70', '42', '21221', '34',\n",
       "       '1978', '16082021', '2023', '21062023', '2021', '30112021', '251',\n",
       "       '255', '212', '16092021', '2222', '50', '37', '211', '4122021',\n",
       "       '69', '36', '80', '35', '49', '48', '224', '214', '312',\n",
       "       '31122021', '222222', '31012022', '44', '5072023', '6072023',\n",
       "       '215', '230', '59', '304', '316', '300', '301', '302', '303',\n",
       "       '305', '306', '307', '308', '309', '310', '311', '314', '317',\n",
       "       '318', '319', '320', '321', '322', '323', '324', '325', '326',\n",
       "       '327', '328', '329', '330', '234', '331', '332', '333', '334',\n",
       "       '335', '336', '134', '165', '338', '339', '121', '341', '98',\n",
       "       '340', '342', '343', '345', nan], dtype=object)"
      ]
     },
     "execution_count": 18,
     "metadata": {},
     "output_type": "execute_result"
    }
   ],
   "source": [
    "# As we can see, there is a lot of stupid data, which we will drop later\n",
    "df_vaccination_entries['series_doses'].unique()"
   ]
  },
  {
   "cell_type": "code",
   "execution_count": 13,
   "id": "e4e312c1",
   "metadata": {},
   "outputs": [
    {
     "data": {
      "text/plain": [
       "temp_immunization_id           0\n",
       "legal_entity_id                0\n",
       "division_id              1231156\n",
       "status                         0\n",
       "not_given                      0\n",
       "vaccine_code                   0\n",
       "immunization_date              0\n",
       "patient_age_group              0\n",
       "patient_gender                 0\n",
       "manufacturer                6523\n",
       "lot_number                 16356\n",
       "expiration_date            26905\n",
       "dose_quantity_unit          6688\n",
       "dose_quantity_value         6585\n",
       "vaccination_protocols          0\n",
       "inserted_at                    0\n",
       "updated_at                     0\n",
       "dose_sequence              23933\n",
       "series                     39875\n",
       "series_doses               22407\n",
       "dtype: int64"
      ]
     },
     "execution_count": 13,
     "metadata": {},
     "output_type": "execute_result"
    }
   ],
   "source": [
    "df_vaccination_entries.isna().sum()"
   ]
  },
  {
   "cell_type": "markdown",
   "id": "c9f04191",
   "metadata": {},
   "source": [
    "## 2.2 Dataset Info (immunization_legal_entities_info.csv)"
   ]
  },
  {
   "cell_type": "code",
   "execution_count": 167,
   "id": "62f3c112",
   "metadata": {},
   "outputs": [
    {
     "name": "stdout",
     "output_type": "stream",
     "text": [
      "<class 'pandas.core.frame.DataFrame'>\n",
      "RangeIndex: 1949 entries, 0 to 1948\n",
      "Data columns (total 13 columns):\n",
      " #   Column                   Non-Null Count  Dtype  \n",
      "---  ------                   --------------  -----  \n",
      " 0   legal_entity_id          1949 non-null   object \n",
      " 1   legal_entity_name        1949 non-null   object \n",
      " 2   legal_entity_edrpou      1949 non-null   object \n",
      " 3   care_type                1949 non-null   object \n",
      " 4   property_type            1949 non-null   object \n",
      " 5   legal_entity_email       1949 non-null   object \n",
      " 6   legal_entity_phone       1949 non-null   object \n",
      " 7   legal_entity_owner_name  1949 non-null   object \n",
      " 8   registration_area        1949 non-null   object \n",
      " 9   registration_settlement  1949 non-null   object \n",
      " 10  registration_addresses   1949 non-null   object \n",
      " 11  lat                      1946 non-null   float64\n",
      " 12  lng                      1946 non-null   float64\n",
      "dtypes: float64(2), object(11)\n",
      "memory usage: 198.1+ KB\n"
     ]
    }
   ],
   "source": [
    "df_vaccination_location.info()"
   ]
  },
  {
   "cell_type": "code",
   "execution_count": 168,
   "id": "4d9ff13b",
   "metadata": {},
   "outputs": [
    {
     "data": {
      "text/html": [
       "<div>\n",
       "<style scoped>\n",
       "    .dataframe tbody tr th:only-of-type {\n",
       "        vertical-align: middle;\n",
       "    }\n",
       "\n",
       "    .dataframe tbody tr th {\n",
       "        vertical-align: top;\n",
       "    }\n",
       "\n",
       "    .dataframe thead th {\n",
       "        text-align: right;\n",
       "    }\n",
       "</style>\n",
       "<table border=\"1\" class=\"dataframe\">\n",
       "  <thead>\n",
       "    <tr style=\"text-align: right;\">\n",
       "      <th></th>\n",
       "      <th>legal_entity_id</th>\n",
       "      <th>legal_entity_name</th>\n",
       "      <th>legal_entity_edrpou</th>\n",
       "      <th>care_type</th>\n",
       "      <th>property_type</th>\n",
       "      <th>legal_entity_email</th>\n",
       "      <th>legal_entity_phone</th>\n",
       "      <th>legal_entity_owner_name</th>\n",
       "      <th>registration_area</th>\n",
       "      <th>registration_settlement</th>\n",
       "      <th>registration_addresses</th>\n",
       "      <th>lat</th>\n",
       "      <th>lng</th>\n",
       "    </tr>\n",
       "  </thead>\n",
       "  <tbody>\n",
       "    <tr>\n",
       "      <th>0</th>\n",
       "      <td>ad229a7d-9bfe-4cf9-9196-4c7fc91f8c5e</td>\n",
       "      <td>КОМУНАЛЬНЕ НЕКОМЕРЦІЙНЕ ПІДПРИЄМСТВО \"ТУРКІВСЬКИЙ ЦЕНТР ПЕРВИННОЇ МЕДИКО-САНІТАРНОЇ ДОПОМОГИ\" ТУРКІВСЬКОЇ МІСЬКОЇ РАДИ САМБІРСЬКОГО РАЙОНУ ЛЬВІВСЬКОЇ ОБЛАСТІ</td>\n",
       "      <td>42448068</td>\n",
       "      <td>Первинна</td>\n",
       "      <td>Комунальна</td>\n",
       "      <td>jmp7@ukr.net</td>\n",
       "      <td>+380995271332</td>\n",
       "      <td>Яцкуляк Микола Петрович</td>\n",
       "      <td>ЛЬВІВСЬКА</td>\n",
       "      <td>ТУРКА</td>\n",
       "      <td>Україна, 82500, Львівська обл., Турківський р-н, місто Турка, ВУЛИЦЯ СІЧОВИХ СТРІЛЬЦІВ, будинок 108</td>\n",
       "      <td>49.161703</td>\n",
       "      <td>23.011938</td>\n",
       "    </tr>\n",
       "    <tr>\n",
       "      <th>1</th>\n",
       "      <td>ed60aaef-83c5-4a5f-988c-e906822d3731</td>\n",
       "      <td>КОМУНАЛЬНЕ НЕКОМЕРЦІЙНЕ ПІДПРИЄМСТВО \"ЦЕНТР ПЕРВИННОЇ МЕДИКО-САНІТАРНОЇ ДОПОМОГИ\" ОПІШНЯНСЬКОЇ СЕЛИЩНОЇ РАДИ</td>\n",
       "      <td>43772207</td>\n",
       "      <td>Первинна</td>\n",
       "      <td>Комунальна</td>\n",
       "      <td>opishnya_centr_pmsd@ukr.net</td>\n",
       "      <td>+380535342197</td>\n",
       "      <td>Дригоза Олена Іванівна</td>\n",
       "      <td>ПОЛТАВСЬКА</td>\n",
       "      <td>ОПІШНЯ</td>\n",
       "      <td>Україна, 38164, Полтавська обл., Зіньківський р-н, селище міського типу Опішня, вул.Нова, будинок 54</td>\n",
       "      <td>49.954295</td>\n",
       "      <td>34.590018</td>\n",
       "    </tr>\n",
       "    <tr>\n",
       "      <th>2</th>\n",
       "      <td>2e756a68-36ff-4469-95db-0d367b1fbbdb</td>\n",
       "      <td>ТОВАРИСТВО З ОБМЕЖЕНОЮ ВІДПОВІДАЛЬНІСТЮ \"БОМЕД\"</td>\n",
       "      <td>41521487</td>\n",
       "      <td>Первинна</td>\n",
       "      <td>Приватна (без ФОП)</td>\n",
       "      <td>bomedmedcentr@gmail.com</td>\n",
       "      <td>+380980103103</td>\n",
       "      <td>Палагнюк Борис Леонідович</td>\n",
       "      <td>ХМЕЛЬНИЦЬКА</td>\n",
       "      <td>ХМЕЛЬНИЦЬКИЙ</td>\n",
       "      <td>Україна, 29015, Хмельницька обл., місто Хмельницький, ВУЛИЦЯ ЗАРІЧАНСЬКА, будинок 11-Е</td>\n",
       "      <td>49.434774</td>\n",
       "      <td>26.990004</td>\n",
       "    </tr>\n",
       "  </tbody>\n",
       "</table>\n",
       "</div>"
      ],
      "text/plain": [
       "                        legal_entity_id  \\\n",
       "0  ad229a7d-9bfe-4cf9-9196-4c7fc91f8c5e   \n",
       "1  ed60aaef-83c5-4a5f-988c-e906822d3731   \n",
       "2  2e756a68-36ff-4469-95db-0d367b1fbbdb   \n",
       "\n",
       "                                                                                                                                               legal_entity_name  \\\n",
       "0  КОМУНАЛЬНЕ НЕКОМЕРЦІЙНЕ ПІДПРИЄМСТВО \"ТУРКІВСЬКИЙ ЦЕНТР ПЕРВИННОЇ МЕДИКО-САНІТАРНОЇ ДОПОМОГИ\" ТУРКІВСЬКОЇ МІСЬКОЇ РАДИ САМБІРСЬКОГО РАЙОНУ ЛЬВІВСЬКОЇ ОБЛАСТІ   \n",
       "1                                                   КОМУНАЛЬНЕ НЕКОМЕРЦІЙНЕ ПІДПРИЄМСТВО \"ЦЕНТР ПЕРВИННОЇ МЕДИКО-САНІТАРНОЇ ДОПОМОГИ\" ОПІШНЯНСЬКОЇ СЕЛИЩНОЇ РАДИ   \n",
       "2                                                                                                                ТОВАРИСТВО З ОБМЕЖЕНОЮ ВІДПОВІДАЛЬНІСТЮ \"БОМЕД\"   \n",
       "\n",
       "  legal_entity_edrpou care_type       property_type  \\\n",
       "0            42448068  Первинна          Комунальна   \n",
       "1            43772207  Первинна          Комунальна   \n",
       "2            41521487  Первинна  Приватна (без ФОП)   \n",
       "\n",
       "            legal_entity_email legal_entity_phone    legal_entity_owner_name  \\\n",
       "0                 jmp7@ukr.net      +380995271332    Яцкуляк Микола Петрович   \n",
       "1  opishnya_centr_pmsd@ukr.net      +380535342197     Дригоза Олена Іванівна   \n",
       "2      bomedmedcentr@gmail.com      +380980103103  Палагнюк Борис Леонідович   \n",
       "\n",
       "  registration_area registration_settlement  \\\n",
       "0         ЛЬВІВСЬКА                   ТУРКА   \n",
       "1        ПОЛТАВСЬКА                  ОПІШНЯ   \n",
       "2       ХМЕЛЬНИЦЬКА            ХМЕЛЬНИЦЬКИЙ   \n",
       "\n",
       "                                                                                 registration_addresses  \\\n",
       "0   Україна, 82500, Львівська обл., Турківський р-н, місто Турка, ВУЛИЦЯ СІЧОВИХ СТРІЛЬЦІВ, будинок 108   \n",
       "1  Україна, 38164, Полтавська обл., Зіньківський р-н, селище міського типу Опішня, вул.Нова, будинок 54   \n",
       "2                Україна, 29015, Хмельницька обл., місто Хмельницький, ВУЛИЦЯ ЗАРІЧАНСЬКА, будинок 11-Е   \n",
       "\n",
       "         lat        lng  \n",
       "0  49.161703  23.011938  \n",
       "1  49.954295  34.590018  \n",
       "2  49.434774  26.990004  "
      ]
     },
     "execution_count": 168,
     "metadata": {},
     "output_type": "execute_result"
    }
   ],
   "source": [
    "df_vaccination_location.head(3)"
   ]
  },
  {
   "cell_type": "code",
   "execution_count": 169,
   "id": "a5165930",
   "metadata": {},
   "outputs": [
    {
     "data": {
      "text/plain": [
       "array(['ЛЬВІВСЬКА', 'ПОЛТАВСЬКА', 'ХМЕЛЬНИЦЬКА', 'СУМСЬКА',\n",
       "       'МИКОЛАЇВСЬКА', 'ХАРКІВСЬКА', 'ІВАНО-ФРАНКІВСЬКА', 'ЛУГАНСЬКА',\n",
       "       'ЖИТОМИРСЬКА', 'ВІННИЦЬКА', 'ОДЕСЬКА', 'ЗАПОРІЗЬКА',\n",
       "       'ДНІПРОПЕТРОВСЬКА', 'ЧЕРНІВЕЦЬКА', 'ЗАКАРПАТСЬКА',\n",
       "       'КІРОВОГРАДСЬКА', 'ЧЕРНІГІВСЬКА', 'М.КИЇВ', 'КИЇВСЬКА',\n",
       "       'ЧЕРКАСЬКА', 'ВОЛИНСЬКА', 'РІВНЕНСЬКА', 'ХЕРСОНСЬКА',\n",
       "       'ТЕРНОПІЛЬСЬКА', 'ДОНЕЦЬКА'], dtype=object)"
      ]
     },
     "execution_count": 169,
     "metadata": {},
     "output_type": "execute_result"
    }
   ],
   "source": [
    "# These areas we will rename to match ukraine.json\n",
    "df_vaccination_location['registration_area'].unique() "
   ]
  },
  {
   "cell_type": "code",
   "execution_count": 170,
   "id": "4cc407a6",
   "metadata": {},
   "outputs": [
    {
     "data": {
      "text/plain": [
       "array(['Cherkasy', 'Chernihiv', 'Chernivtsi', 'Crimea', \"Dnipropetrovs'k\",\n",
       "       \"Donets'k\", \"Ivano-Frankivs'k\", 'Kharkiv', 'Kherson',\n",
       "       \"Khmel'nyts'kyy\", 'Kyiv', 'Kyiv City', 'Kirovohrad', \"L'viv\",\n",
       "       \"Luhans'k\", 'Mykolayiv', 'Odesa', 'Poltava', 'Rivne',\n",
       "       \"Sevastopol'\", 'Sumy', \"Ternopil'\", 'Transcarpathia', 'Vinnytsya',\n",
       "       'Volyn', 'Zaporizhzhya', 'Zhytomyr'], dtype=object)"
      ]
     },
     "execution_count": 170,
     "metadata": {},
     "output_type": "execute_result"
    }
   ],
   "source": [
    "# Should rename df_vaccination_location['registration_area'] to merge with ukraine.json\n",
    "geo['NAME_1'].unique()"
   ]
  },
  {
   "cell_type": "code",
   "execution_count": 171,
   "id": "6b34d594",
   "metadata": {},
   "outputs": [
    {
     "data": {
      "text/plain": [
       "array(['Первинна', 'Спеціалізована'], dtype=object)"
      ]
     },
     "execution_count": 171,
     "metadata": {},
     "output_type": "execute_result"
    }
   ],
   "source": [
    "df_vaccination_location['care_type'].unique()"
   ]
  },
  {
   "cell_type": "code",
   "execution_count": 172,
   "id": "4e5bf31a",
   "metadata": {},
   "outputs": [
    {
     "data": {
      "text/plain": [
       "array(['Комунальна', 'Приватна (без ФОП)', 'ФОП', 'Державна'],\n",
       "      dtype=object)"
      ]
     },
     "execution_count": 172,
     "metadata": {},
     "output_type": "execute_result"
    }
   ],
   "source": [
    "# We not gonna use this column\n",
    "df_vaccination_location['property_type'].unique()"
   ]
  },
  {
   "cell_type": "markdown",
   "id": "c15a36a4",
   "metadata": {},
   "source": [
    "## 2.3 Dataset Info (immunization_vaccine_codes.csv)"
   ]
  },
  {
   "cell_type": "markdown",
   "id": "3af2efa7",
   "metadata": {},
   "source": [
    "#### We discovered that this dataset is not useful and we would not use it later."
   ]
  },
  {
   "cell_type": "code",
   "execution_count": 103,
   "id": "a187d166",
   "metadata": {},
   "outputs": [
    {
     "name": "stdout",
     "output_type": "stream",
     "text": [
      "<class 'pandas.core.frame.DataFrame'>\n",
      "RangeIndex: 8 entries, 0 to 7\n",
      "Data columns (total 2 columns):\n",
      " #   Column        Non-Null Count  Dtype \n",
      "---  ------        --------------  ----- \n",
      " 0   vaccine_code  8 non-null      object\n",
      " 1   vaccine_name  8 non-null      object\n",
      "dtypes: object(2)\n",
      "memory usage: 256.0+ bytes\n"
     ]
    }
   ],
   "source": [
    "df_vaccine_info.info()"
   ]
  },
  {
   "cell_type": "code",
   "execution_count": 104,
   "id": "e93d8403",
   "metadata": {},
   "outputs": [
    {
     "data": {
      "text/html": [
       "<div>\n",
       "<style scoped>\n",
       "    .dataframe tbody tr th:only-of-type {\n",
       "        vertical-align: middle;\n",
       "    }\n",
       "\n",
       "    .dataframe tbody tr th {\n",
       "        vertical-align: top;\n",
       "    }\n",
       "\n",
       "    .dataframe thead th {\n",
       "        text-align: right;\n",
       "    }\n",
       "</style>\n",
       "<table border=\"1\" class=\"dataframe\">\n",
       "  <thead>\n",
       "    <tr style=\"text-align: right;\">\n",
       "      <th></th>\n",
       "      <th>vaccine_code</th>\n",
       "      <th>vaccine_name</th>\n",
       "    </tr>\n",
       "  </thead>\n",
       "  <tbody>\n",
       "    <tr>\n",
       "      <th>0</th>\n",
       "      <td>SarsCov2_Pr</td>\n",
       "      <td>Вакцина від коронавірусної хвороби на платформі білкової субодиниці</td>\n",
       "    </tr>\n",
       "    <tr>\n",
       "      <th>1</th>\n",
       "      <td>SarsCov2_DNA</td>\n",
       "      <td>Вакцина від коронавірусної хвороби на платформі ДНК</td>\n",
       "    </tr>\n",
       "    <tr>\n",
       "      <th>2</th>\n",
       "      <td>SarsCov2_RNA</td>\n",
       "      <td>Вакцина від коронавірусної хвороби на платформі РНК</td>\n",
       "    </tr>\n",
       "    <tr>\n",
       "      <th>3</th>\n",
       "      <td>SarsCov2_RVv</td>\n",
       "      <td>Вакцина від коронавірусної хвороби на платформі вірусного вектора зі здатністю до реплікаці</td>\n",
       "    </tr>\n",
       "    <tr>\n",
       "      <th>4</th>\n",
       "      <td>SarsCov2_mRNA</td>\n",
       "      <td>Вакцина від коронавірусної хвороби на платформі мРНК</td>\n",
       "    </tr>\n",
       "  </tbody>\n",
       "</table>\n",
       "</div>"
      ],
      "text/plain": [
       "    vaccine_code  \\\n",
       "0    SarsCov2_Pr   \n",
       "1   SarsCov2_DNA   \n",
       "2   SarsCov2_RNA   \n",
       "3   SarsCov2_RVv   \n",
       "4  SarsCov2_mRNA   \n",
       "\n",
       "                                                                                  vaccine_name  \n",
       "0                          Вакцина від коронавірусної хвороби на платформі білкової субодиниці  \n",
       "1                                          Вакцина від коронавірусної хвороби на платформі ДНК  \n",
       "2                                          Вакцина від коронавірусної хвороби на платформі РНК  \n",
       "3  Вакцина від коронавірусної хвороби на платформі вірусного вектора зі здатністю до реплікаці  \n",
       "4                                         Вакцина від коронавірусної хвороби на платформі мРНК  "
      ]
     },
     "execution_count": 104,
     "metadata": {},
     "output_type": "execute_result"
    }
   ],
   "source": [
    "df_vaccine_info.head()"
   ]
  },
  {
   "cell_type": "markdown",
   "id": "596eb6ad",
   "metadata": {},
   "source": [
    "## 3.1 Dataset Cleaning (immunization_covid19_2021_16.11.2021.csv)"
   ]
  },
  {
   "cell_type": "code",
   "execution_count": 119,
   "id": "be0b36ef",
   "metadata": {},
   "outputs": [],
   "source": [
    "df_1 = df_vaccination_entries.copy(deep=True)"
   ]
  },
  {
   "cell_type": "code",
   "execution_count": 120,
   "id": "906e5a79",
   "metadata": {},
   "outputs": [],
   "source": [
    "# Drop entries with not proper information\n",
    "df_1.drop(df_1.loc[df_1['status']=='Запис внесено помилково'].index, inplace=True)"
   ]
  },
  {
   "cell_type": "code",
   "execution_count": 121,
   "id": "ae5ee388",
   "metadata": {},
   "outputs": [],
   "source": [
    "# Drop entries with not proper information\n",
    "df_1.drop(df_1.loc[df_1['patient_age_group']=='Уточнюється'].index, inplace=True)"
   ]
  },
  {
   "cell_type": "code",
   "execution_count": 122,
   "id": "f6d8c8cc",
   "metadata": {},
   "outputs": [],
   "source": [
    "# Drop entries with not proper information\n",
    "df_1.drop(df_1.loc[df_1['patient_gender']=='Уточнюється'].index, inplace=True)"
   ]
  },
  {
   "cell_type": "code",
   "execution_count": 123,
   "id": "2551151f",
   "metadata": {},
   "outputs": [],
   "source": [
    "# Drop entries with not proper information\n",
    "df_1.drop(df_1.loc[df_1['not_given']==True].index, inplace=True)"
   ]
  },
  {
   "cell_type": "code",
   "execution_count": 124,
   "id": "496e9c5f",
   "metadata": {},
   "outputs": [],
   "source": [
    "# Drop entries with no information\n",
    "df_1 = df_1[df_1['dose_sequence'].notna()]"
   ]
  },
  {
   "cell_type": "code",
   "execution_count": 125,
   "id": "23e8b0e7",
   "metadata": {},
   "outputs": [],
   "source": [
    "# Drop entries with no information\n",
    "df_1 = df_1[df_1['series'].notna()]"
   ]
  },
  {
   "cell_type": "code",
   "execution_count": 126,
   "id": "93327c14",
   "metadata": {},
   "outputs": [],
   "source": [
    "# Drop entries with no information\n",
    "df_1 = df_1[df_1['series_doses'].notna()]"
   ]
  },
  {
   "cell_type": "code",
   "execution_count": 127,
   "id": "c201a47a",
   "metadata": {},
   "outputs": [],
   "source": [
    "# Drop irrelevant columns\n",
    "df_1.drop('temp_immunization_id', axis=1, inplace=True)\n",
    "df_1.drop('division_id', axis=1, inplace=True)\n",
    "df_1.drop('status', axis=1, inplace=True)\n",
    "df_1.drop('vaccine_code', axis=1, inplace=True)\n",
    "df_1.drop('immunization_date', axis=1, inplace=True)\n",
    "df_1.drop('manufacturer', axis=1, inplace=True)\n",
    "df_1.drop('lot_number', axis=1, inplace=True)\n",
    "df_1.drop('expiration_date', axis=1, inplace=True)\n",
    "df_1.drop('dose_quantity_unit', axis=1, inplace=True)\n",
    "df_1.drop('dose_quantity_value', axis=1, inplace=True)\n",
    "df_1.drop('vaccination_protocols', axis=1, inplace=True)\n",
    "df_1.drop('inserted_at', axis=1, inplace=True)\n",
    "df_1.drop('updated_at', axis=1, inplace=True)\n",
    "df_1.drop('not_given', axis=1, inplace=True)"
   ]
  },
  {
   "cell_type": "code",
   "execution_count": 128,
   "id": "74ac198c",
   "metadata": {},
   "outputs": [],
   "source": [
    "def uniform_ages(name):\n",
    "    name = name.replace(\"0-4 р.\", \"0-4\")\n",
    "    name = name.replace(\"05-10 р.\", \"5-10\")\n",
    "    name = name.replace(\"11-15 р.\", \"11-15\")\n",
    "    name = name.replace(\"16-20 р.\", \"16-20\")\n",
    "    name = name.replace(\"21-25 р.\", \"21-25\")\n",
    "    name = name.replace(\"26-30 р.\", \"26-30\")\n",
    "    name = name.replace(\"31-35 р.\", \"31-35\")\n",
    "    name = name.replace(\"36-40 р.\", \"36-40\")\n",
    "    name = name.replace(\"41-45 р.\", \"41-45\")\n",
    "    name = name.replace(\"46-50 р.\", \"46-50\")\n",
    "    name = name.replace(\"51-55 р.\", \"51-55\")\n",
    "    name = name.replace(\"56-60 р.\", \"56-60\")\n",
    "    name = name.replace(\"61-65 р.\", \"61-65\")\n",
    "    name = name.replace(\"66-70 р.\", \"66-70\")\n",
    "    name = name.replace(\"71-75 р.\", \"71-75\")\n",
    "    name = name.replace(\"76-80 р.\", \"76-80\")\n",
    "    name = name.replace(\"81-85 р.\", \"81-85\")\n",
    "    name = name.replace(\"86-00 р.\", \"86-90\")\n",
    "    name = name.replace(\"91-95 р.\", \"91-95\")\n",
    "    name = name.replace(\"96+ р.\", \"96+\")\n",
    "    return name\n",
    "\n",
    "df_1['patient_age_group'] = df_1['patient_age_group'].apply(uniform_ages)"
   ]
  },
  {
   "cell_type": "code",
   "execution_count": 129,
   "id": "24afb1b1",
   "metadata": {},
   "outputs": [],
   "source": [
    "matches_first_dose = [\"ПЕР\", \"пер\", \"Пер\", \"1-\", \"1 етап\", \"1 й\", '1 доза', '1  доза', ' 1', '1етап', ' 1',\n",
    "                     '1із2', '1 ДОЗА', '1_етап', '1TNFG', \"1'\", '1й', '1 ЕТАП', 'І-Ї', '1 вакц', '1 із2', \n",
    "                     '1`', '1  ДОЗА', 'І дози', '1 із 2', '1тап', '1епізод', '1 вакцинація', 'І-ї', '1  етап',\n",
    "                     '`1', '1 -й', 'прершої дози', 'І етап', '1 ет', 'введено1дозу', '1 ', 'пеоший', '1доза']\n",
    "matches_second_dose = [\"Дру\", \"II етап\", \"2-й етап\", \"ДРУ\", \"2 вак\", '2 етап', 'IIетап', 'другий ', '2 дози',\n",
    "                      '2-ої дози', 'другої дози', 'другий', '2 доза', 'друга', '2-етап', 'другої  дози', 'друга доза',\n",
    "                      'повторний', 'ревакцинація', 'вторинний', '2етап', \"2доза\" ,'2-й', '2-ї дози', 'ІІ', '2-доза',\n",
    "                      ]\n",
    "matches_third_dose = ['третій', '3 етап', 'ТРЕТІЙ', 'ІІІ', '3-й етап', '3']\n",
    "matches_fourth_dose = ['4 етап', 'четвертий']\n",
    "matches_fifth_dose = [\"5-й етап вакцинації\", \"п'ятий\", 'пятий', '5 етап', 'V', '5 ЕТАП', \"П'ЯТИЙ\", '5етап',\n",
    "                     '5-й етап', 'п’ятий', \"П'ятий\"]\n",
    "\n",
    "\n",
    "def uniform_series(series):\n",
    "    if series == \"1\" or series == \"2\":\n",
    "        return series\n",
    "    if any(x in series for x in matches_first_dose):\n",
    "        return \"1\"\n",
    "    elif any(x in series for x in matches_second_dose):\n",
    "        return \"2\"\n",
    "    elif any(x in series for x in matches_third_dose):\n",
    "        return \"3\"\n",
    "    elif any(x in series for x in matches_fourth_dose):\n",
    "        return \"4\"\n",
    "    elif any(x in series for x in matches_fifth_dose):\n",
    "        return \"5\"\n",
    "    else:\n",
    "        return series\n",
    "\n",
    "df_1['series'] = df_1['series'].apply(uniform_series)"
   ]
  },
  {
   "cell_type": "code",
   "execution_count": 130,
   "id": "e5f1a0cf",
   "metadata": {},
   "outputs": [],
   "source": [
    "available_1 = ['1', '2', '3', '4', '5']\n",
    "df_1 = df_1[df_1['series'].isin(available_1)]"
   ]
  },
  {
   "cell_type": "code",
   "execution_count": 131,
   "id": "f66df301",
   "metadata": {},
   "outputs": [
    {
     "data": {
      "text/plain": [
       "1    7271818\n",
       "5    5848732\n",
       "2    5013109\n",
       "3     872216\n",
       "4     554639\n",
       "Name: series, dtype: int64"
      ]
     },
     "execution_count": 131,
     "metadata": {},
     "output_type": "execute_result"
    }
   ],
   "source": [
    "df_1['series'].value_counts()"
   ]
  },
  {
   "cell_type": "code",
   "execution_count": 132,
   "id": "50a0fad4",
   "metadata": {},
   "outputs": [],
   "source": [
    "available_2 = ['1', '2', '3', '4', '5', '6', '7', '8', '9', '10']\n",
    "df_1 = df_1[df_1['series_doses'].isin(available_2)]"
   ]
  },
  {
   "cell_type": "code",
   "execution_count": 133,
   "id": "72a9744b",
   "metadata": {},
   "outputs": [],
   "source": [
    "df_1 = df_1[df_1['dose_sequence'].isin(available_2)]"
   ]
  },
  {
   "cell_type": "code",
   "execution_count": 137,
   "id": "b70b720d",
   "metadata": {},
   "outputs": [],
   "source": [
    "def uniform_gender(gender):\n",
    "    if gender == \"Чоловіча\":\n",
    "        return \"Male\"\n",
    "    else:\n",
    "        return \"Female\"\n",
    "\n",
    "df_1['patient_gender'] = df_1['patient_gender'].apply(uniform_gender)"
   ]
  },
  {
   "cell_type": "code",
   "execution_count": 138,
   "id": "766e5219",
   "metadata": {},
   "outputs": [
    {
     "data": {
      "text/plain": [
       "legal_entity_id      0\n",
       "patient_age_group    0\n",
       "patient_gender       0\n",
       "dose_sequence        0\n",
       "series               0\n",
       "series_doses         0\n",
       "dtype: int64"
      ]
     },
     "execution_count": 138,
     "metadata": {},
     "output_type": "execute_result"
    }
   ],
   "source": [
    "df_1.isna().sum()"
   ]
  },
  {
   "cell_type": "code",
   "execution_count": 139,
   "id": "4d59532b",
   "metadata": {},
   "outputs": [
    {
     "name": "stdout",
     "output_type": "stream",
     "text": [
      "<class 'pandas.core.frame.DataFrame'>\n",
      "Int64Index: 19527207 entries, 1 to 20878296\n",
      "Data columns (total 6 columns):\n",
      " #   Column             Dtype \n",
      "---  ------             ----- \n",
      " 0   legal_entity_id    object\n",
      " 1   patient_age_group  object\n",
      " 2   patient_gender     object\n",
      " 3   dose_sequence      object\n",
      " 4   series             object\n",
      " 5   series_doses       object\n",
      "dtypes: object(6)\n",
      "memory usage: 1.0+ GB\n"
     ]
    }
   ],
   "source": [
    "df_1.info()"
   ]
  },
  {
   "cell_type": "code",
   "execution_count": 140,
   "id": "7b5d44b7",
   "metadata": {},
   "outputs": [
    {
     "data": {
      "text/html": [
       "<div>\n",
       "<style scoped>\n",
       "    .dataframe tbody tr th:only-of-type {\n",
       "        vertical-align: middle;\n",
       "    }\n",
       "\n",
       "    .dataframe tbody tr th {\n",
       "        vertical-align: top;\n",
       "    }\n",
       "\n",
       "    .dataframe thead th {\n",
       "        text-align: right;\n",
       "    }\n",
       "</style>\n",
       "<table border=\"1\" class=\"dataframe\">\n",
       "  <thead>\n",
       "    <tr style=\"text-align: right;\">\n",
       "      <th></th>\n",
       "      <th>legal_entity_id</th>\n",
       "      <th>patient_age_group</th>\n",
       "      <th>patient_gender</th>\n",
       "      <th>dose_sequence</th>\n",
       "      <th>series</th>\n",
       "      <th>series_doses</th>\n",
       "    </tr>\n",
       "  </thead>\n",
       "  <tbody>\n",
       "    <tr>\n",
       "      <th>1</th>\n",
       "      <td>254ff4d8-5e2f-4db6-9cae-38edabe94729</td>\n",
       "      <td>46-50</td>\n",
       "      <td>Female</td>\n",
       "      <td>2</td>\n",
       "      <td>1</td>\n",
       "      <td>1</td>\n",
       "    </tr>\n",
       "    <tr>\n",
       "      <th>5</th>\n",
       "      <td>254ff4d8-5e2f-4db6-9cae-38edabe94729</td>\n",
       "      <td>26-30</td>\n",
       "      <td>Female</td>\n",
       "      <td>2</td>\n",
       "      <td>1</td>\n",
       "      <td>1</td>\n",
       "    </tr>\n",
       "    <tr>\n",
       "      <th>6</th>\n",
       "      <td>254ff4d8-5e2f-4db6-9cae-38edabe94729</td>\n",
       "      <td>36-40</td>\n",
       "      <td>Male</td>\n",
       "      <td>2</td>\n",
       "      <td>1</td>\n",
       "      <td>1</td>\n",
       "    </tr>\n",
       "  </tbody>\n",
       "</table>\n",
       "</div>"
      ],
      "text/plain": [
       "                        legal_entity_id patient_age_group patient_gender  \\\n",
       "1  254ff4d8-5e2f-4db6-9cae-38edabe94729             46-50         Female   \n",
       "5  254ff4d8-5e2f-4db6-9cae-38edabe94729             26-30         Female   \n",
       "6  254ff4d8-5e2f-4db6-9cae-38edabe94729             36-40           Male   \n",
       "\n",
       "  dose_sequence series series_doses  \n",
       "1             2      1            1  \n",
       "5             2      1            1  \n",
       "6             2      1            1  "
      ]
     },
     "execution_count": 140,
     "metadata": {},
     "output_type": "execute_result"
    }
   ],
   "source": [
    "df_1.head(3)"
   ]
  },
  {
   "cell_type": "markdown",
   "id": "3c482c97",
   "metadata": {},
   "source": [
    "## 3.2 Dataset Cleaning (immunization_legal_entities_info.csv)"
   ]
  },
  {
   "cell_type": "code",
   "execution_count": 173,
   "id": "7352cd09",
   "metadata": {},
   "outputs": [],
   "source": [
    "df_2 = df_vaccination_location.copy(deep=True)"
   ]
  },
  {
   "cell_type": "code",
   "execution_count": 174,
   "id": "9806bb43",
   "metadata": {},
   "outputs": [],
   "source": [
    "# Drop irrelevant columns\n",
    "df_2.drop(columns=['legal_entity_name', 'legal_entity_edrpou', 'legal_entity_email', \n",
    "                                      'legal_entity_phone', 'legal_entity_owner_name', 'registration_settlement',\n",
    "                                      'registration_addresses', 'lat', 'lng', 'property_type'], inplace=True)"
   ]
  },
  {
   "cell_type": "code",
   "execution_count": 175,
   "id": "81fc4604",
   "metadata": {},
   "outputs": [],
   "source": [
    "def uniform_names(name):\n",
    "    name = name.replace(\"ЛЬВІВСЬКА\", \"L'viv\")\n",
    "    name = name.replace(\"ПОЛТАВСЬКА\", \"Poltava\")\n",
    "    name = name.replace(\"ХМЕЛЬНИЦЬКА\", \"Khmel'nyts'kyy\")\n",
    "    name = name.replace(\"СУМСЬКА\", \"Sumy\")\n",
    "    name = name.replace(\"МИКОЛАЇВСЬКА\", \"Mykolayiv\")\n",
    "    name = name.replace(\"ХАРКІВСЬКА\", \"Kharkiv\")\n",
    "    name = name.replace(\"ІВАНО-ФРАНКІВСЬКА\", \"Ivano-Frankivs'k\")\n",
    "    name = name.replace(\"ЛУГАНСЬКА\", \"Luhans'k\")\n",
    "    name = name.replace(\"ЖИТОМИРСЬКА\", \"Zhytomyr\")\n",
    "    name = name.replace(\"ВІННИЦЬКА\", \"Vinnytsya\")\n",
    "    name = name.replace(\"ОДЕСЬКА\", \"Odesa\")\n",
    "    name = name.replace(\"ЗАПОРІЗЬКА\", \"Zaporizhzhya\")\n",
    "    name = name.replace(\"ДНІПРОПЕТРОВСЬКА\", \"Dnipropetrovs'k\")\n",
    "    name = name.replace(\"ЧЕРНІВЕЦЬКА\", \"Chernivtsi\")\n",
    "    name = name.replace(\"ЧЕРНІГІВСЬКА\", \"Chernihiv\")\n",
    "    name = name.replace(\"ЧЕРКАСЬКА\", \"Cherkasy\")\n",
    "    name = name.replace(\"КІРОВОГРАДСЬКА\", \"Kirovohrad\")\n",
    "    name = name.replace(\"КИЇВСЬКА\", \"Kyiv\")\n",
    "    name = name.replace(\"М.КИЇВ\", \"Kyiv City\")\n",
    "    name = name.replace(\"ТЕРНОПІЛЬСЬКА\", \"Ternopil'\")\n",
    "    name = name.replace(\"ВОЛИНСЬКА\", \"Volyn\")\n",
    "    name = name.replace(\"РІВНЕНСЬКА\", \"Rivne\")\n",
    "    name = name.replace(\"ХЕРСОНСЬКА\", \"Kherson\")\n",
    "    name = name.replace(\"ДОНЕЦЬКА\", \"Donets'k\")\n",
    "    name = name.replace(\"ЗАКАРПАТСЬКА\", \"Transcarpathia\")\n",
    "    return name\n",
    "\n",
    "df_2['registration_area'] = df_2['registration_area'].apply(uniform_names)"
   ]
  },
  {
   "cell_type": "code",
   "execution_count": 177,
   "id": "17519072",
   "metadata": {},
   "outputs": [
    {
     "data": {
      "text/html": [
       "<div>\n",
       "<style scoped>\n",
       "    .dataframe tbody tr th:only-of-type {\n",
       "        vertical-align: middle;\n",
       "    }\n",
       "\n",
       "    .dataframe tbody tr th {\n",
       "        vertical-align: top;\n",
       "    }\n",
       "\n",
       "    .dataframe thead th {\n",
       "        text-align: right;\n",
       "    }\n",
       "</style>\n",
       "<table border=\"1\" class=\"dataframe\">\n",
       "  <thead>\n",
       "    <tr style=\"text-align: right;\">\n",
       "      <th></th>\n",
       "      <th>legal_entity_id</th>\n",
       "      <th>care_type</th>\n",
       "      <th>registration_area</th>\n",
       "    </tr>\n",
       "  </thead>\n",
       "  <tbody>\n",
       "    <tr>\n",
       "      <th>0</th>\n",
       "      <td>ad229a7d-9bfe-4cf9-9196-4c7fc91f8c5e</td>\n",
       "      <td>Первинна</td>\n",
       "      <td>L'viv</td>\n",
       "    </tr>\n",
       "    <tr>\n",
       "      <th>1</th>\n",
       "      <td>ed60aaef-83c5-4a5f-988c-e906822d3731</td>\n",
       "      <td>Первинна</td>\n",
       "      <td>Poltava</td>\n",
       "    </tr>\n",
       "    <tr>\n",
       "      <th>2</th>\n",
       "      <td>2e756a68-36ff-4469-95db-0d367b1fbbdb</td>\n",
       "      <td>Первинна</td>\n",
       "      <td>Khmel'nyts'kyy</td>\n",
       "    </tr>\n",
       "  </tbody>\n",
       "</table>\n",
       "</div>"
      ],
      "text/plain": [
       "                        legal_entity_id care_type registration_area\n",
       "0  ad229a7d-9bfe-4cf9-9196-4c7fc91f8c5e  Первинна             L'viv\n",
       "1  ed60aaef-83c5-4a5f-988c-e906822d3731  Первинна           Poltava\n",
       "2  2e756a68-36ff-4469-95db-0d367b1fbbdb  Первинна    Khmel'nyts'kyy"
      ]
     },
     "execution_count": 177,
     "metadata": {},
     "output_type": "execute_result"
    }
   ],
   "source": [
    "df_2.head(3)"
   ]
  },
  {
   "cell_type": "markdown",
   "id": "51fa5673",
   "metadata": {},
   "source": [
    "## 4. Datasets Merging"
   ]
  },
  {
   "cell_type": "code",
   "execution_count": 184,
   "id": "c209b27d",
   "metadata": {},
   "outputs": [],
   "source": [
    "df_merged = pd.merge(df_1, df_2, left_on=\"legal_entity_id\", right_on=\"legal_entity_id\", how=\"left\")"
   ]
  },
  {
   "cell_type": "code",
   "execution_count": 185,
   "id": "b52ea7ff",
   "metadata": {},
   "outputs": [],
   "source": [
    "# Drop irrelevant column\n",
    "df_merged.drop('legal_entity_id', axis=1, inplace=True)"
   ]
  },
  {
   "cell_type": "code",
   "execution_count": 186,
   "id": "3fdf03c9",
   "metadata": {},
   "outputs": [],
   "source": [
    "df_merged = df_merged.rename(columns = {'patient_age_group': 'Age_group'}, inplace = False)\n",
    "df_merged = df_merged.rename(columns = {'patient_gender': 'Gender'}, inplace = False)\n",
    "df_merged = df_merged.rename(columns = {'dose_sequence': 'Vaccination_sequence_number'}, inplace = False)\n",
    "df_merged = df_merged.rename(columns = {'series': 'Vaccination_phase'}, inplace = False)\n",
    "df_merged = df_merged.rename(columns = {'series_doses': 'Vaccination_needed_doses'}, inplace = False)\n",
    "df_merged = df_merged.rename(columns = {'care_type': 'Medical_care'}, inplace = False)\n",
    "df_merged = df_merged.rename(columns = {'registration_area': 'Region'}, inplace = False)"
   ]
  },
  {
   "cell_type": "code",
   "execution_count": 187,
   "id": "b596c30e",
   "metadata": {},
   "outputs": [],
   "source": [
    "def uniform_hospital(hospital):\n",
    "    if hospital == \"Первинна\":\n",
    "        return \"First aid\"\n",
    "    else:\n",
    "        return \"Specialized aid\"\n",
    "\n",
    "df_merged['Medical_care'] = df_merged['Medical_care'].apply(uniform_hospital)"
   ]
  },
  {
   "cell_type": "code",
   "execution_count": 188,
   "id": "f8c83fa1",
   "metadata": {},
   "outputs": [
    {
     "data": {
      "text/html": [
       "<div>\n",
       "<style scoped>\n",
       "    .dataframe tbody tr th:only-of-type {\n",
       "        vertical-align: middle;\n",
       "    }\n",
       "\n",
       "    .dataframe tbody tr th {\n",
       "        vertical-align: top;\n",
       "    }\n",
       "\n",
       "    .dataframe thead th {\n",
       "        text-align: right;\n",
       "    }\n",
       "</style>\n",
       "<table border=\"1\" class=\"dataframe\">\n",
       "  <thead>\n",
       "    <tr style=\"text-align: right;\">\n",
       "      <th></th>\n",
       "      <th>Age_group</th>\n",
       "      <th>Gender</th>\n",
       "      <th>Vaccination_sequence_number</th>\n",
       "      <th>Vaccination_phase</th>\n",
       "      <th>Vaccination_needed_doses</th>\n",
       "      <th>Medical_care</th>\n",
       "      <th>Region</th>\n",
       "    </tr>\n",
       "  </thead>\n",
       "  <tbody>\n",
       "    <tr>\n",
       "      <th>0</th>\n",
       "      <td>46-50</td>\n",
       "      <td>Female</td>\n",
       "      <td>2</td>\n",
       "      <td>1</td>\n",
       "      <td>1</td>\n",
       "      <td>First aid</td>\n",
       "      <td>Chernihiv</td>\n",
       "    </tr>\n",
       "    <tr>\n",
       "      <th>1</th>\n",
       "      <td>26-30</td>\n",
       "      <td>Female</td>\n",
       "      <td>2</td>\n",
       "      <td>1</td>\n",
       "      <td>1</td>\n",
       "      <td>First aid</td>\n",
       "      <td>Chernihiv</td>\n",
       "    </tr>\n",
       "    <tr>\n",
       "      <th>2</th>\n",
       "      <td>36-40</td>\n",
       "      <td>Male</td>\n",
       "      <td>2</td>\n",
       "      <td>1</td>\n",
       "      <td>1</td>\n",
       "      <td>First aid</td>\n",
       "      <td>Chernihiv</td>\n",
       "    </tr>\n",
       "    <tr>\n",
       "      <th>3</th>\n",
       "      <td>46-50</td>\n",
       "      <td>Male</td>\n",
       "      <td>2</td>\n",
       "      <td>1</td>\n",
       "      <td>1</td>\n",
       "      <td>First aid</td>\n",
       "      <td>Chernihiv</td>\n",
       "    </tr>\n",
       "    <tr>\n",
       "      <th>4</th>\n",
       "      <td>41-45</td>\n",
       "      <td>Male</td>\n",
       "      <td>1</td>\n",
       "      <td>1</td>\n",
       "      <td>2</td>\n",
       "      <td>First aid</td>\n",
       "      <td>Zhytomyr</td>\n",
       "    </tr>\n",
       "  </tbody>\n",
       "</table>\n",
       "</div>"
      ],
      "text/plain": [
       "  Age_group  Gender Vaccination_sequence_number Vaccination_phase  \\\n",
       "0     46-50  Female                           2                 1   \n",
       "1     26-30  Female                           2                 1   \n",
       "2     36-40    Male                           2                 1   \n",
       "3     46-50    Male                           2                 1   \n",
       "4     41-45    Male                           1                 1   \n",
       "\n",
       "  Vaccination_needed_doses Medical_care     Region  \n",
       "0                        1    First aid  Chernihiv  \n",
       "1                        1    First aid  Chernihiv  \n",
       "2                        1    First aid  Chernihiv  \n",
       "3                        1    First aid  Chernihiv  \n",
       "4                        2    First aid   Zhytomyr  "
      ]
     },
     "execution_count": 188,
     "metadata": {},
     "output_type": "execute_result"
    }
   ],
   "source": [
    "df_merged.head()"
   ]
  },
  {
   "cell_type": "code",
   "execution_count": 189,
   "id": "9eedff52",
   "metadata": {},
   "outputs": [
    {
     "name": "stdout",
     "output_type": "stream",
     "text": [
      "<class 'pandas.core.frame.DataFrame'>\n",
      "Int64Index: 19527207 entries, 0 to 19527206\n",
      "Data columns (total 7 columns):\n",
      " #   Column                       Dtype \n",
      "---  ------                       ----- \n",
      " 0   Age_group                    object\n",
      " 1   Gender                       object\n",
      " 2   Vaccination_sequence_number  object\n",
      " 3   Vaccination_phase            object\n",
      " 4   Vaccination_needed_doses     object\n",
      " 5   Medical_care                 object\n",
      " 6   Region                       object\n",
      "dtypes: object(7)\n",
      "memory usage: 1.2+ GB\n"
     ]
    }
   ],
   "source": [
    "df_merged.info()"
   ]
  },
  {
   "cell_type": "code",
   "execution_count": 190,
   "id": "d8211e25",
   "metadata": {},
   "outputs": [
    {
     "data": {
      "text/plain": [
       "Age_group                      0\n",
       "Gender                         0\n",
       "Vaccination_sequence_number    0\n",
       "Vaccination_phase              0\n",
       "Vaccination_needed_doses       0\n",
       "Medical_care                   0\n",
       "Region                         0\n",
       "dtype: int64"
      ]
     },
     "execution_count": 190,
     "metadata": {},
     "output_type": "execute_result"
    }
   ],
   "source": [
    "df_merged.isna().sum()"
   ]
  },
  {
   "cell_type": "markdown",
   "id": "a9f51e97",
   "metadata": {},
   "source": [
    "## 5. Saving Cleaned Dataset"
   ]
  },
  {
   "cell_type": "code",
   "execution_count": 193,
   "id": "8e886858",
   "metadata": {},
   "outputs": [],
   "source": [
    "# Run to save cleaned data to .csv file\n",
    "df_merged.to_csv('./data/cleaned_covid_data.csv', index=False)"
   ]
  }
 ],
 "metadata": {
  "kernelspec": {
   "display_name": "Python 3 (ipykernel)",
   "language": "python",
   "name": "python3"
  },
  "language_info": {
   "codemirror_mode": {
    "name": "ipython",
    "version": 3
   },
   "file_extension": ".py",
   "mimetype": "text/x-python",
   "name": "python",
   "nbconvert_exporter": "python",
   "pygments_lexer": "ipython3",
   "version": "3.8.9"
  }
 },
 "nbformat": 4,
 "nbformat_minor": 5
}
