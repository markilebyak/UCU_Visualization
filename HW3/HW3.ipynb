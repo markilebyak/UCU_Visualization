{
 "cells": [
  {
   "cell_type": "markdown",
   "id": "5d1589d6",
   "metadata": {},
   "source": [
    "## Homework 3\n",
    "\n",
    "Використовуючи файл `population_prospects.csv`, створіть карти, котрі відповідають на наступні питання:\n",
    "\n",
    "- В яких країнах світу населення у 2100 році буде більшим, ніж було у 2000 році, а в яких меншим?\n",
    "\n",
    "- На скільки відсотків збільшиться або зменшиться населення кожної країни у 2100 році у порівнянні з 2000 роком?\n",
    "\n",
    "- Яким буде населення країн світу у 2100 році?\n",
    "\n",
    "У наборі даних ви знайдете декілька прогнозів щодо зростання / скорочення населення країн світу (змінна `variant`). Для фактичних історичних даних (2000 рік) ви можете використовувати значення `Estimates`, для прогнозних даних (2100 рік) ви можете використовувати значення `Medium variant`.\n",
    "\n",
    "Ви можете використовувати файл `world-countries.json` або будь-який інший файл з геоданими, котрий вам підходить для цієї задачі. Ви можете використовувати будь-який доступний вам інструмент візуалізації даних.\n",
    "\n",
    "Ви маєте також у невеличкому супровідному тексті обґрунтувати вибір типу карти / типу кольорової шкали, пояснити його сильні та слабкі сторони для поставленої задачі.  "
   ]
  },
  {
   "cell_type": "code",
   "execution_count": 1,
   "id": "1d2d02d9",
   "metadata": {},
   "outputs": [
    {
     "data": {
      "text/plain": [
       "RendererRegistry.enable('default')"
      ]
     },
     "execution_count": 1,
     "metadata": {},
     "output_type": "execute_result"
    }
   ],
   "source": [
    "# !pip3 install geopandas\n",
    "import altair as alt\n",
    "import pandas as pd\n",
    "import geopandas as gpd\n",
    "alt.renderers.enable('default')"
   ]
  },
  {
   "cell_type": "markdown",
   "id": "727e3eb7",
   "metadata": {},
   "source": [
    "### 1. Data exploration"
   ]
  },
  {
   "cell_type": "code",
   "execution_count": 2,
   "id": "bb9904cd",
   "metadata": {},
   "outputs": [
    {
     "name": "stdout",
     "output_type": "stream",
     "text": [
      "<class 'geopandas.geodataframe.GeoDataFrame'>\n",
      "RangeIndex: 177 entries, 0 to 176\n",
      "Data columns (total 3 columns):\n",
      " #   Column    Non-Null Count  Dtype   \n",
      "---  ------    --------------  -----   \n",
      " 0   id        177 non-null    object  \n",
      " 1   name      177 non-null    object  \n",
      " 2   geometry  177 non-null    geometry\n",
      "dtypes: geometry(1), object(2)\n",
      "memory usage: 4.3+ KB\n"
     ]
    }
   ],
   "source": [
    "geo_df = gpd.read_file('./world-countries.json')\n",
    "geo_df.info()"
   ]
  },
  {
   "cell_type": "code",
   "execution_count": 3,
   "id": "d9828e3c",
   "metadata": {},
   "outputs": [
    {
     "data": {
      "text/html": [
       "<div>\n",
       "<style scoped>\n",
       "    .dataframe tbody tr th:only-of-type {\n",
       "        vertical-align: middle;\n",
       "    }\n",
       "\n",
       "    .dataframe tbody tr th {\n",
       "        vertical-align: top;\n",
       "    }\n",
       "\n",
       "    .dataframe thead th {\n",
       "        text-align: right;\n",
       "    }\n",
       "</style>\n",
       "<table border=\"1\" class=\"dataframe\">\n",
       "  <thead>\n",
       "    <tr style=\"text-align: right;\">\n",
       "      <th></th>\n",
       "      <th>id</th>\n",
       "      <th>name</th>\n",
       "      <th>geometry</th>\n",
       "    </tr>\n",
       "  </thead>\n",
       "  <tbody>\n",
       "    <tr>\n",
       "      <th>0</th>\n",
       "      <td>AFG</td>\n",
       "      <td>Afghanistan</td>\n",
       "      <td>POLYGON ((61.21082 35.65007, 62.23065 35.27066...</td>\n",
       "    </tr>\n",
       "    <tr>\n",
       "      <th>1</th>\n",
       "      <td>AGO</td>\n",
       "      <td>Angola</td>\n",
       "      <td>MULTIPOLYGON (((16.32653 -5.87747, 16.57318 -6...</td>\n",
       "    </tr>\n",
       "    <tr>\n",
       "      <th>2</th>\n",
       "      <td>ALB</td>\n",
       "      <td>Albania</td>\n",
       "      <td>POLYGON ((20.59025 41.85540, 20.46317 41.51509...</td>\n",
       "    </tr>\n",
       "    <tr>\n",
       "      <th>3</th>\n",
       "      <td>ARE</td>\n",
       "      <td>United Arab Emirates</td>\n",
       "      <td>POLYGON ((51.57952 24.24550, 51.75744 24.29407...</td>\n",
       "    </tr>\n",
       "    <tr>\n",
       "      <th>4</th>\n",
       "      <td>ARG</td>\n",
       "      <td>Argentina</td>\n",
       "      <td>MULTIPOLYGON (((-65.50000 -55.20000, -66.45000...</td>\n",
       "    </tr>\n",
       "    <tr>\n",
       "      <th>5</th>\n",
       "      <td>ARM</td>\n",
       "      <td>Armenia</td>\n",
       "      <td>POLYGON ((43.58275 41.09214, 44.97248 41.24813...</td>\n",
       "    </tr>\n",
       "    <tr>\n",
       "      <th>6</th>\n",
       "      <td>ATA</td>\n",
       "      <td>Antarctica</td>\n",
       "      <td>MULTIPOLYGON (((-59.57209 -80.04018, -59.86585...</td>\n",
       "    </tr>\n",
       "    <tr>\n",
       "      <th>7</th>\n",
       "      <td>ATF</td>\n",
       "      <td>French Southern and Antarctic Lands</td>\n",
       "      <td>POLYGON ((68.93500 -48.62500, 69.58000 -48.940...</td>\n",
       "    </tr>\n",
       "    <tr>\n",
       "      <th>8</th>\n",
       "      <td>AUS</td>\n",
       "      <td>Australia</td>\n",
       "      <td>MULTIPOLYGON (((145.39798 -40.79255, 146.36412...</td>\n",
       "    </tr>\n",
       "    <tr>\n",
       "      <th>9</th>\n",
       "      <td>AUT</td>\n",
       "      <td>Austria</td>\n",
       "      <td>POLYGON ((16.97967 48.12350, 16.90375 47.71487...</td>\n",
       "    </tr>\n",
       "  </tbody>\n",
       "</table>\n",
       "</div>"
      ],
      "text/plain": [
       "    id                                 name  \\\n",
       "0  AFG                          Afghanistan   \n",
       "1  AGO                               Angola   \n",
       "2  ALB                              Albania   \n",
       "3  ARE                 United Arab Emirates   \n",
       "4  ARG                            Argentina   \n",
       "5  ARM                              Armenia   \n",
       "6  ATA                           Antarctica   \n",
       "7  ATF  French Southern and Antarctic Lands   \n",
       "8  AUS                            Australia   \n",
       "9  AUT                              Austria   \n",
       "\n",
       "                                            geometry  \n",
       "0  POLYGON ((61.21082 35.65007, 62.23065 35.27066...  \n",
       "1  MULTIPOLYGON (((16.32653 -5.87747, 16.57318 -6...  \n",
       "2  POLYGON ((20.59025 41.85540, 20.46317 41.51509...  \n",
       "3  POLYGON ((51.57952 24.24550, 51.75744 24.29407...  \n",
       "4  MULTIPOLYGON (((-65.50000 -55.20000, -66.45000...  \n",
       "5  POLYGON ((43.58275 41.09214, 44.97248 41.24813...  \n",
       "6  MULTIPOLYGON (((-59.57209 -80.04018, -59.86585...  \n",
       "7  POLYGON ((68.93500 -48.62500, 69.58000 -48.940...  \n",
       "8  MULTIPOLYGON (((145.39798 -40.79255, 146.36412...  \n",
       "9  POLYGON ((16.97967 48.12350, 16.90375 47.71487...  "
      ]
     },
     "execution_count": 3,
     "metadata": {},
     "output_type": "execute_result"
    }
   ],
   "source": [
    "geo_df.head(10)"
   ]
  },
  {
   "cell_type": "code",
   "execution_count": 4,
   "id": "9eea1a7b",
   "metadata": {},
   "outputs": [
    {
     "name": "stdout",
     "output_type": "stream",
     "text": [
      "<class 'pandas.core.frame.DataFrame'>\n",
      "RangeIndex: 188000 entries, 0 to 187999\n",
      "Data columns (total 6 columns):\n",
      " #   Column        Non-Null Count   Dtype  \n",
      "---  ------        --------------   -----  \n",
      " 0   variant       188000 non-null  object \n",
      " 1   country       188000 non-null  object \n",
      " 2   country_code  188000 non-null  int64  \n",
      " 3   parent_code   188000 non-null  int64  \n",
      " 4   year          188000 non-null  int64  \n",
      " 5   population    188000 non-null  float64\n",
      "dtypes: float64(1), int64(3), object(2)\n",
      "memory usage: 8.6+ MB\n"
     ]
    }
   ],
   "source": [
    "df = pd.read_csv('./population_prospects.csv')\n",
    "df.info()"
   ]
  },
  {
   "cell_type": "code",
   "execution_count": 5,
   "id": "a6c46ec3",
   "metadata": {},
   "outputs": [
    {
     "data": {
      "text/html": [
       "<div>\n",
       "<style scoped>\n",
       "    .dataframe tbody tr th:only-of-type {\n",
       "        vertical-align: middle;\n",
       "    }\n",
       "\n",
       "    .dataframe tbody tr th {\n",
       "        vertical-align: top;\n",
       "    }\n",
       "\n",
       "    .dataframe thead th {\n",
       "        text-align: right;\n",
       "    }\n",
       "</style>\n",
       "<table border=\"1\" class=\"dataframe\">\n",
       "  <thead>\n",
       "    <tr style=\"text-align: right;\">\n",
       "      <th></th>\n",
       "      <th>variant</th>\n",
       "      <th>country</th>\n",
       "      <th>country_code</th>\n",
       "      <th>parent_code</th>\n",
       "      <th>year</th>\n",
       "      <th>population</th>\n",
       "    </tr>\n",
       "  </thead>\n",
       "  <tbody>\n",
       "    <tr>\n",
       "      <th>0</th>\n",
       "      <td>Estimates</td>\n",
       "      <td>Burundi</td>\n",
       "      <td>108</td>\n",
       "      <td>910</td>\n",
       "      <td>1950</td>\n",
       "      <td>2308.927</td>\n",
       "    </tr>\n",
       "    <tr>\n",
       "      <th>1</th>\n",
       "      <td>Estimates</td>\n",
       "      <td>Comoros</td>\n",
       "      <td>174</td>\n",
       "      <td>910</td>\n",
       "      <td>1950</td>\n",
       "      <td>159.459</td>\n",
       "    </tr>\n",
       "    <tr>\n",
       "      <th>2</th>\n",
       "      <td>Estimates</td>\n",
       "      <td>Djibouti</td>\n",
       "      <td>262</td>\n",
       "      <td>910</td>\n",
       "      <td>1950</td>\n",
       "      <td>62.000</td>\n",
       "    </tr>\n",
       "    <tr>\n",
       "      <th>3</th>\n",
       "      <td>Estimates</td>\n",
       "      <td>Eritrea</td>\n",
       "      <td>232</td>\n",
       "      <td>910</td>\n",
       "      <td>1950</td>\n",
       "      <td>822.347</td>\n",
       "    </tr>\n",
       "    <tr>\n",
       "      <th>4</th>\n",
       "      <td>Estimates</td>\n",
       "      <td>Ethiopia</td>\n",
       "      <td>231</td>\n",
       "      <td>910</td>\n",
       "      <td>1950</td>\n",
       "      <td>18128.030</td>\n",
       "    </tr>\n",
       "    <tr>\n",
       "      <th>5</th>\n",
       "      <td>Estimates</td>\n",
       "      <td>Kenya</td>\n",
       "      <td>404</td>\n",
       "      <td>910</td>\n",
       "      <td>1950</td>\n",
       "      <td>6076.757</td>\n",
       "    </tr>\n",
       "    <tr>\n",
       "      <th>6</th>\n",
       "      <td>Estimates</td>\n",
       "      <td>Madagascar</td>\n",
       "      <td>450</td>\n",
       "      <td>910</td>\n",
       "      <td>1950</td>\n",
       "      <td>4083.548</td>\n",
       "    </tr>\n",
       "    <tr>\n",
       "      <th>7</th>\n",
       "      <td>Estimates</td>\n",
       "      <td>Malawi</td>\n",
       "      <td>454</td>\n",
       "      <td>910</td>\n",
       "      <td>1950</td>\n",
       "      <td>2953.871</td>\n",
       "    </tr>\n",
       "    <tr>\n",
       "      <th>8</th>\n",
       "      <td>Estimates</td>\n",
       "      <td>Mauritius</td>\n",
       "      <td>480</td>\n",
       "      <td>910</td>\n",
       "      <td>1950</td>\n",
       "      <td>493.258</td>\n",
       "    </tr>\n",
       "    <tr>\n",
       "      <th>9</th>\n",
       "      <td>Estimates</td>\n",
       "      <td>Mayotte</td>\n",
       "      <td>175</td>\n",
       "      <td>910</td>\n",
       "      <td>1950</td>\n",
       "      <td>15.138</td>\n",
       "    </tr>\n",
       "  </tbody>\n",
       "</table>\n",
       "</div>"
      ],
      "text/plain": [
       "     variant     country  country_code  parent_code  year  population\n",
       "0  Estimates     Burundi           108          910  1950    2308.927\n",
       "1  Estimates     Comoros           174          910  1950     159.459\n",
       "2  Estimates    Djibouti           262          910  1950      62.000\n",
       "3  Estimates     Eritrea           232          910  1950     822.347\n",
       "4  Estimates    Ethiopia           231          910  1950   18128.030\n",
       "5  Estimates       Kenya           404          910  1950    6076.757\n",
       "6  Estimates  Madagascar           450          910  1950    4083.548\n",
       "7  Estimates      Malawi           454          910  1950    2953.871\n",
       "8  Estimates   Mauritius           480          910  1950     493.258\n",
       "9  Estimates     Mayotte           175          910  1950      15.138"
      ]
     },
     "execution_count": 5,
     "metadata": {},
     "output_type": "execute_result"
    }
   ],
   "source": [
    "df.head(10)"
   ]
  },
  {
   "cell_type": "code",
   "execution_count": 6,
   "id": "16135ce6",
   "metadata": {},
   "outputs": [
    {
     "data": {
      "text/plain": [
       "array(['Estimates', 'Medium variant', 'High variant', 'Low variant',\n",
       "       'Constant-fertility', 'Instant-replacement', 'Momentum',\n",
       "       'Zero-migration', 'Constant-mortality', 'No change'], dtype=object)"
      ]
     },
     "execution_count": 6,
     "metadata": {},
     "output_type": "execute_result"
    }
   ],
   "source": [
    "df['variant'].unique()"
   ]
  },
  {
   "cell_type": "markdown",
   "id": "f9790886",
   "metadata": {},
   "source": [
    "### 2. Data preprocessing"
   ]
  },
  {
   "cell_type": "code",
   "execution_count": null,
   "id": "f71dca07",
   "metadata": {},
   "outputs": [],
   "source": []
  },
  {
   "cell_type": "code",
   "execution_count": null,
   "id": "e8f52b0a",
   "metadata": {},
   "outputs": [],
   "source": []
  },
  {
   "cell_type": "code",
   "execution_count": 7,
   "id": "014495ba",
   "metadata": {},
   "outputs": [
    {
     "ename": "SyntaxError",
     "evalue": "invalid syntax (2067697595.py, line 1)",
     "output_type": "error",
     "traceback": [
      "\u001b[0;36m  File \u001b[0;32m\"/var/folders/f1/yhzk16fj5pdgx_60m1bhp2040000gn/T/ipykernel_11624/2067697595.py\"\u001b[0;36m, line \u001b[0;32m1\u001b[0m\n\u001b[0;31m    https://github.com/unexpectedjourney/data-visualization/blob/main/assignment-4/main.ipynb\u001b[0m\n\u001b[0m          ^\u001b[0m\n\u001b[0;31mSyntaxError\u001b[0m\u001b[0;31m:\u001b[0m invalid syntax\n"
     ]
    }
   ],
   "source": [
    "https://github.com/unexpectedjourney/data-visualization/blob/main/assignment-4/main.ipynb"
   ]
  }
 ],
 "metadata": {
  "kernelspec": {
   "display_name": "Python 3 (ipykernel)",
   "language": "python",
   "name": "python3"
  },
  "language_info": {
   "codemirror_mode": {
    "name": "ipython",
    "version": 3
   },
   "file_extension": ".py",
   "mimetype": "text/x-python",
   "name": "python",
   "nbconvert_exporter": "python",
   "pygments_lexer": "ipython3",
   "version": "3.8.9"
  }
 },
 "nbformat": 4,
 "nbformat_minor": 5
}
