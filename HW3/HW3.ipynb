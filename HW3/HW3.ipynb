{
 "cells": [
  {
   "cell_type": "markdown",
   "id": "5d1589d6",
   "metadata": {},
   "source": [
    "### Homework 3\n",
    "\n",
    "Використовуючи файл `population_prospects.csv`, створіть карти, котрі відповідають на наступні питання:\n",
    "\n",
    "- В яких країнах світу населення у 2100 році буде більшим, ніж було у 2000 році, а в яких меншим?\n",
    "\n",
    "- На скільки відсотків збільшиться або зменшиться населення кожної країни у 2100 році у порівнянні з 2000 роком?\n",
    "\n",
    "- Яким буде населення країн світу у 2100 році?\n",
    "\n",
    "У наборі даних ви знайдете декілька прогнозів щодо зростання / скорочення населення країн світу (змінна `variant`). Для фактичних історичних даних (2000 рік) ви можете використовувати значення `Estimates`, для прогнозних даних (2100 рік) ви можете використовувати значення `Medium variant`.\n",
    "\n",
    "Ви можете використовувати файл `world-countries.json` або будь-який інший файл з геоданими, котрий вам підходить для цієї задачі. Ви можете використовувати будь-який доступний вам інструмент візуалізації даних.\n",
    "\n",
    "Ви маєте також у невеличкому супровідному тексті обґрунтувати вибір типу карти / типу кольорової шкали, пояснити його сильні та слабкі сторони для поставленої задачі.  "
   ]
  },
  {
   "cell_type": "code",
   "execution_count": 172,
   "id": "1d2d02d9",
   "metadata": {},
   "outputs": [
    {
     "data": {
      "text/plain": [
       "RendererRegistry.enable('default')"
      ]
     },
     "execution_count": 172,
     "metadata": {},
     "output_type": "execute_result"
    }
   ],
   "source": [
    "# !pip3 install geopandas\n",
    "import altair    as alt\n",
    "import pandas    as pd\n",
    "import geopandas as gpd\n",
    "\n",
    "alt.data_transformers.enable('csv')\n",
    "alt.renderers.enable('default')"
   ]
  },
  {
   "cell_type": "markdown",
   "id": "727e3eb7",
   "metadata": {},
   "source": [
    "### 1. Data exploration"
   ]
  },
  {
   "cell_type": "code",
   "execution_count": 173,
   "id": "bb9904cd",
   "metadata": {},
   "outputs": [
    {
     "name": "stdout",
     "output_type": "stream",
     "text": [
      "<class 'geopandas.geodataframe.GeoDataFrame'>\n",
      "RangeIndex: 177 entries, 0 to 176\n",
      "Data columns (total 3 columns):\n",
      " #   Column    Non-Null Count  Dtype   \n",
      "---  ------    --------------  -----   \n",
      " 0   id        177 non-null    object  \n",
      " 1   name      177 non-null    object  \n",
      " 2   geometry  177 non-null    geometry\n",
      "dtypes: geometry(1), object(2)\n",
      "memory usage: 4.3+ KB\n"
     ]
    }
   ],
   "source": [
    "geo = gpd.read_file('./world-countries.json')\n",
    "geo.info()"
   ]
  },
  {
   "cell_type": "code",
   "execution_count": 174,
   "id": "d9828e3c",
   "metadata": {},
   "outputs": [
    {
     "data": {
      "text/html": [
       "<div>\n",
       "<style scoped>\n",
       "    .dataframe tbody tr th:only-of-type {\n",
       "        vertical-align: middle;\n",
       "    }\n",
       "\n",
       "    .dataframe tbody tr th {\n",
       "        vertical-align: top;\n",
       "    }\n",
       "\n",
       "    .dataframe thead th {\n",
       "        text-align: right;\n",
       "    }\n",
       "</style>\n",
       "<table border=\"1\" class=\"dataframe\">\n",
       "  <thead>\n",
       "    <tr style=\"text-align: right;\">\n",
       "      <th></th>\n",
       "      <th>id</th>\n",
       "      <th>name</th>\n",
       "      <th>geometry</th>\n",
       "    </tr>\n",
       "  </thead>\n",
       "  <tbody>\n",
       "    <tr>\n",
       "      <th>0</th>\n",
       "      <td>AFG</td>\n",
       "      <td>Afghanistan</td>\n",
       "      <td>POLYGON ((61.21082 35.65007, 62.23065 35.27066...</td>\n",
       "    </tr>\n",
       "    <tr>\n",
       "      <th>1</th>\n",
       "      <td>AGO</td>\n",
       "      <td>Angola</td>\n",
       "      <td>MULTIPOLYGON (((16.32653 -5.87747, 16.57318 -6...</td>\n",
       "    </tr>\n",
       "    <tr>\n",
       "      <th>2</th>\n",
       "      <td>ALB</td>\n",
       "      <td>Albania</td>\n",
       "      <td>POLYGON ((20.59025 41.85540, 20.46317 41.51509...</td>\n",
       "    </tr>\n",
       "    <tr>\n",
       "      <th>3</th>\n",
       "      <td>ARE</td>\n",
       "      <td>United Arab Emirates</td>\n",
       "      <td>POLYGON ((51.57952 24.24550, 51.75744 24.29407...</td>\n",
       "    </tr>\n",
       "    <tr>\n",
       "      <th>4</th>\n",
       "      <td>ARG</td>\n",
       "      <td>Argentina</td>\n",
       "      <td>MULTIPOLYGON (((-65.50000 -55.20000, -66.45000...</td>\n",
       "    </tr>\n",
       "    <tr>\n",
       "      <th>5</th>\n",
       "      <td>ARM</td>\n",
       "      <td>Armenia</td>\n",
       "      <td>POLYGON ((43.58275 41.09214, 44.97248 41.24813...</td>\n",
       "    </tr>\n",
       "    <tr>\n",
       "      <th>6</th>\n",
       "      <td>ATA</td>\n",
       "      <td>Antarctica</td>\n",
       "      <td>MULTIPOLYGON (((-59.57209 -80.04018, -59.86585...</td>\n",
       "    </tr>\n",
       "    <tr>\n",
       "      <th>7</th>\n",
       "      <td>ATF</td>\n",
       "      <td>French Southern and Antarctic Lands</td>\n",
       "      <td>POLYGON ((68.93500 -48.62500, 69.58000 -48.940...</td>\n",
       "    </tr>\n",
       "    <tr>\n",
       "      <th>8</th>\n",
       "      <td>AUS</td>\n",
       "      <td>Australia</td>\n",
       "      <td>MULTIPOLYGON (((145.39798 -40.79255, 146.36412...</td>\n",
       "    </tr>\n",
       "    <tr>\n",
       "      <th>9</th>\n",
       "      <td>AUT</td>\n",
       "      <td>Austria</td>\n",
       "      <td>POLYGON ((16.97967 48.12350, 16.90375 47.71487...</td>\n",
       "    </tr>\n",
       "  </tbody>\n",
       "</table>\n",
       "</div>"
      ],
      "text/plain": [
       "    id                                 name  \\\n",
       "0  AFG                          Afghanistan   \n",
       "1  AGO                               Angola   \n",
       "2  ALB                              Albania   \n",
       "3  ARE                 United Arab Emirates   \n",
       "4  ARG                            Argentina   \n",
       "5  ARM                              Armenia   \n",
       "6  ATA                           Antarctica   \n",
       "7  ATF  French Southern and Antarctic Lands   \n",
       "8  AUS                            Australia   \n",
       "9  AUT                              Austria   \n",
       "\n",
       "                                            geometry  \n",
       "0  POLYGON ((61.21082 35.65007, 62.23065 35.27066...  \n",
       "1  MULTIPOLYGON (((16.32653 -5.87747, 16.57318 -6...  \n",
       "2  POLYGON ((20.59025 41.85540, 20.46317 41.51509...  \n",
       "3  POLYGON ((51.57952 24.24550, 51.75744 24.29407...  \n",
       "4  MULTIPOLYGON (((-65.50000 -55.20000, -66.45000...  \n",
       "5  POLYGON ((43.58275 41.09214, 44.97248 41.24813...  \n",
       "6  MULTIPOLYGON (((-59.57209 -80.04018, -59.86585...  \n",
       "7  POLYGON ((68.93500 -48.62500, 69.58000 -48.940...  \n",
       "8  MULTIPOLYGON (((145.39798 -40.79255, 146.36412...  \n",
       "9  POLYGON ((16.97967 48.12350, 16.90375 47.71487...  "
      ]
     },
     "execution_count": 174,
     "metadata": {},
     "output_type": "execute_result"
    }
   ],
   "source": [
    "geo.head(10)"
   ]
  },
  {
   "cell_type": "code",
   "execution_count": 175,
   "id": "9eea1a7b",
   "metadata": {},
   "outputs": [
    {
     "name": "stdout",
     "output_type": "stream",
     "text": [
      "<class 'pandas.core.frame.DataFrame'>\n",
      "RangeIndex: 188000 entries, 0 to 187999\n",
      "Data columns (total 6 columns):\n",
      " #   Column        Non-Null Count   Dtype  \n",
      "---  ------        --------------   -----  \n",
      " 0   variant       188000 non-null  object \n",
      " 1   country       188000 non-null  object \n",
      " 2   country_code  188000 non-null  int64  \n",
      " 3   parent_code   188000 non-null  int64  \n",
      " 4   year          188000 non-null  int64  \n",
      " 5   population    188000 non-null  float64\n",
      "dtypes: float64(1), int64(3), object(2)\n",
      "memory usage: 8.6+ MB\n"
     ]
    }
   ],
   "source": [
    "df = pd.read_csv('./population_prospects.csv')\n",
    "df.info()"
   ]
  },
  {
   "cell_type": "code",
   "execution_count": 176,
   "id": "a6c46ec3",
   "metadata": {},
   "outputs": [
    {
     "data": {
      "text/html": [
       "<div>\n",
       "<style scoped>\n",
       "    .dataframe tbody tr th:only-of-type {\n",
       "        vertical-align: middle;\n",
       "    }\n",
       "\n",
       "    .dataframe tbody tr th {\n",
       "        vertical-align: top;\n",
       "    }\n",
       "\n",
       "    .dataframe thead th {\n",
       "        text-align: right;\n",
       "    }\n",
       "</style>\n",
       "<table border=\"1\" class=\"dataframe\">\n",
       "  <thead>\n",
       "    <tr style=\"text-align: right;\">\n",
       "      <th></th>\n",
       "      <th>variant</th>\n",
       "      <th>country</th>\n",
       "      <th>country_code</th>\n",
       "      <th>parent_code</th>\n",
       "      <th>year</th>\n",
       "      <th>population</th>\n",
       "    </tr>\n",
       "  </thead>\n",
       "  <tbody>\n",
       "    <tr>\n",
       "      <th>0</th>\n",
       "      <td>Estimates</td>\n",
       "      <td>Burundi</td>\n",
       "      <td>108</td>\n",
       "      <td>910</td>\n",
       "      <td>1950</td>\n",
       "      <td>2308.927</td>\n",
       "    </tr>\n",
       "    <tr>\n",
       "      <th>1</th>\n",
       "      <td>Estimates</td>\n",
       "      <td>Comoros</td>\n",
       "      <td>174</td>\n",
       "      <td>910</td>\n",
       "      <td>1950</td>\n",
       "      <td>159.459</td>\n",
       "    </tr>\n",
       "    <tr>\n",
       "      <th>2</th>\n",
       "      <td>Estimates</td>\n",
       "      <td>Djibouti</td>\n",
       "      <td>262</td>\n",
       "      <td>910</td>\n",
       "      <td>1950</td>\n",
       "      <td>62.000</td>\n",
       "    </tr>\n",
       "    <tr>\n",
       "      <th>3</th>\n",
       "      <td>Estimates</td>\n",
       "      <td>Eritrea</td>\n",
       "      <td>232</td>\n",
       "      <td>910</td>\n",
       "      <td>1950</td>\n",
       "      <td>822.347</td>\n",
       "    </tr>\n",
       "    <tr>\n",
       "      <th>4</th>\n",
       "      <td>Estimates</td>\n",
       "      <td>Ethiopia</td>\n",
       "      <td>231</td>\n",
       "      <td>910</td>\n",
       "      <td>1950</td>\n",
       "      <td>18128.030</td>\n",
       "    </tr>\n",
       "    <tr>\n",
       "      <th>5</th>\n",
       "      <td>Estimates</td>\n",
       "      <td>Kenya</td>\n",
       "      <td>404</td>\n",
       "      <td>910</td>\n",
       "      <td>1950</td>\n",
       "      <td>6076.757</td>\n",
       "    </tr>\n",
       "    <tr>\n",
       "      <th>6</th>\n",
       "      <td>Estimates</td>\n",
       "      <td>Madagascar</td>\n",
       "      <td>450</td>\n",
       "      <td>910</td>\n",
       "      <td>1950</td>\n",
       "      <td>4083.548</td>\n",
       "    </tr>\n",
       "    <tr>\n",
       "      <th>7</th>\n",
       "      <td>Estimates</td>\n",
       "      <td>Malawi</td>\n",
       "      <td>454</td>\n",
       "      <td>910</td>\n",
       "      <td>1950</td>\n",
       "      <td>2953.871</td>\n",
       "    </tr>\n",
       "    <tr>\n",
       "      <th>8</th>\n",
       "      <td>Estimates</td>\n",
       "      <td>Mauritius</td>\n",
       "      <td>480</td>\n",
       "      <td>910</td>\n",
       "      <td>1950</td>\n",
       "      <td>493.258</td>\n",
       "    </tr>\n",
       "    <tr>\n",
       "      <th>9</th>\n",
       "      <td>Estimates</td>\n",
       "      <td>Mayotte</td>\n",
       "      <td>175</td>\n",
       "      <td>910</td>\n",
       "      <td>1950</td>\n",
       "      <td>15.138</td>\n",
       "    </tr>\n",
       "  </tbody>\n",
       "</table>\n",
       "</div>"
      ],
      "text/plain": [
       "     variant     country  country_code  parent_code  year  population\n",
       "0  Estimates     Burundi           108          910  1950    2308.927\n",
       "1  Estimates     Comoros           174          910  1950     159.459\n",
       "2  Estimates    Djibouti           262          910  1950      62.000\n",
       "3  Estimates     Eritrea           232          910  1950     822.347\n",
       "4  Estimates    Ethiopia           231          910  1950   18128.030\n",
       "5  Estimates       Kenya           404          910  1950    6076.757\n",
       "6  Estimates  Madagascar           450          910  1950    4083.548\n",
       "7  Estimates      Malawi           454          910  1950    2953.871\n",
       "8  Estimates   Mauritius           480          910  1950     493.258\n",
       "9  Estimates     Mayotte           175          910  1950      15.138"
      ]
     },
     "execution_count": 176,
     "metadata": {},
     "output_type": "execute_result"
    }
   ],
   "source": [
    "df.head(10)"
   ]
  },
  {
   "cell_type": "code",
   "execution_count": 177,
   "id": "16135ce6",
   "metadata": {},
   "outputs": [
    {
     "data": {
      "text/plain": [
       "array(['Estimates', 'Medium variant', 'High variant', 'Low variant',\n",
       "       'Constant-fertility', 'Instant-replacement', 'Momentum',\n",
       "       'Zero-migration', 'Constant-mortality', 'No change'], dtype=object)"
      ]
     },
     "execution_count": 177,
     "metadata": {},
     "output_type": "execute_result"
    }
   ],
   "source": [
    "df['variant'].unique()"
   ]
  },
  {
   "cell_type": "markdown",
   "id": "f9790886",
   "metadata": {},
   "source": [
    "### 2. Data preprocessing"
   ]
  },
  {
   "cell_type": "code",
   "execution_count": 178,
   "id": "f71dca07",
   "metadata": {},
   "outputs": [],
   "source": [
    "df = df.pivot_table(index=['country'], \n",
    "            columns=['variant'], values='population')\n",
    "df = df.reset_index()"
   ]
  },
  {
   "cell_type": "code",
   "execution_count": 179,
   "id": "adb3e87b",
   "metadata": {},
   "outputs": [],
   "source": [
    "df = df.rename_axis(None, axis=1)\n",
    "df = df.rename(columns = {'country': 'Country'}, inplace = False)"
   ]
  },
  {
   "cell_type": "code",
   "execution_count": 180,
   "id": "b931ba35",
   "metadata": {},
   "outputs": [],
   "source": [
    "def uniform_names(name):\n",
    "    name = name.replace(\"Bahamas\", \"The Bahamas\")\n",
    "    name = name.replace(\"Bolivia (Plurinational State of)\", \"Bolivia\")\n",
    "    name = name.replace(\"Iran (Islamic Republic of)\", \"Iran\")\n",
    "    name = name.replace(\"Congo\", \"Republic of the Congo\")\n",
    "    name = name.replace(\"Brunei Darussalam\", \"Brunei\")\n",
    "    name = name.replace(\"Czechia\", \"Czech Republic\")\n",
    "    name = name.replace(\"Cote d'Ivoire\", \"Ivory Coast\")\n",
    "    name = name.replace(\"Falkland Islands (Malvinas)\", \"Falkland Islands\")\n",
    "    name = name.replace(\"French Guiana\", \"Equatorial Guinea\")\n",
    "    name = name.replace(\"Viet Nam\", \"Vietnam\")\n",
    "    name = name.replace(\"Venezuela (Bolivarian Republic of)\", \"Venezuela\")\n",
    "    name = name.replace(\"North Macedonia\", \"Macedonia\")\n",
    "    name = name.replace(\"Russian Federation\", \"Russia\")\n",
    "    name = name.replace(\"Serbia\", \"Republic of Serbia\")\n",
    "    name = name.replace(\"Syrian Arab Republic\", \"Syria\")\n",
    "    name = name.replace(\"Lao People's Democratic Republic\", \"Laos\")\n",
    "    name = name.replace(\"Republic of Korea\", \"South Korea\")\n",
    "    name = name.replace(\"Republic of Korea\", \"North Korea\")\n",
    "    name = name.replace(\"Republic of Moldova\", \"Moldova\")\n",
    "    name = name.replace(\"China, Taiwan Province of China\", \"Taiwan\")\n",
    "    name = name.replace(\"Timor-Leste\", \"East Timor\")\n",
    "    \n",
    "    return name\n",
    "\n",
    "df['Country'] = df['Country'].apply(uniform_names)"
   ]
  },
  {
   "cell_type": "code",
   "execution_count": 181,
   "id": "1fffae59",
   "metadata": {},
   "outputs": [],
   "source": [
    "df_with_geo = pd.merge(gpd.GeoDataFrame(geo), df, left_on=\"name\", right_on=\"Country\", how=\"left\")"
   ]
  },
  {
   "cell_type": "code",
   "execution_count": 182,
   "id": "2e48ea14",
   "metadata": {},
   "outputs": [],
   "source": [
    "df_with_geo = df_with_geo.dropna()"
   ]
  },
  {
   "cell_type": "code",
   "execution_count": 183,
   "id": "0fe765c8",
   "metadata": {},
   "outputs": [],
   "source": [
    "df_with_geo.drop(\"name\", axis='columns', inplace=True)"
   ]
  },
  {
   "cell_type": "code",
   "execution_count": 184,
   "id": "fe3e8537",
   "metadata": {},
   "outputs": [],
   "source": [
    "df_with_geo = df_with_geo.rename(columns = {'id': 'Country Abreviation'}, inplace = False)"
   ]
  },
  {
   "cell_type": "code",
   "execution_count": 185,
   "id": "d248fb65",
   "metadata": {},
   "outputs": [
    {
     "name": "stdout",
     "output_type": "stream",
     "text": [
      "<class 'geopandas.geodataframe.GeoDataFrame'>\n",
      "Int64Index: 168 entries, 0 to 177\n",
      "Data columns (total 13 columns):\n",
      " #   Column               Non-Null Count  Dtype   \n",
      "---  ------               --------------  -----   \n",
      " 0   Country Abreviation  168 non-null    object  \n",
      " 1   geometry             168 non-null    geometry\n",
      " 2   Country              168 non-null    object  \n",
      " 3   Constant-fertility   168 non-null    float64 \n",
      " 4   Constant-mortality   168 non-null    float64 \n",
      " 5   Estimates            168 non-null    float64 \n",
      " 6   High variant         168 non-null    float64 \n",
      " 7   Instant-replacement  168 non-null    float64 \n",
      " 8   Low variant          168 non-null    float64 \n",
      " 9   Medium variant       168 non-null    float64 \n",
      " 10  Momentum             168 non-null    float64 \n",
      " 11  No change            168 non-null    float64 \n",
      " 12  Zero-migration       168 non-null    float64 \n",
      "dtypes: float64(10), geometry(1), object(2)\n",
      "memory usage: 18.4+ KB\n"
     ]
    }
   ],
   "source": [
    "df_with_geo.info()"
   ]
  },
  {
   "cell_type": "code",
   "execution_count": 186,
   "id": "535e9e94",
   "metadata": {},
   "outputs": [
    {
     "data": {
      "text/html": [
       "<div>\n",
       "<style scoped>\n",
       "    .dataframe tbody tr th:only-of-type {\n",
       "        vertical-align: middle;\n",
       "    }\n",
       "\n",
       "    .dataframe tbody tr th {\n",
       "        vertical-align: top;\n",
       "    }\n",
       "\n",
       "    .dataframe thead th {\n",
       "        text-align: right;\n",
       "    }\n",
       "</style>\n",
       "<table border=\"1\" class=\"dataframe\">\n",
       "  <thead>\n",
       "    <tr style=\"text-align: right;\">\n",
       "      <th></th>\n",
       "      <th>Country Abreviation</th>\n",
       "      <th>geometry</th>\n",
       "      <th>Country</th>\n",
       "      <th>Constant-fertility</th>\n",
       "      <th>Constant-mortality</th>\n",
       "      <th>Estimates</th>\n",
       "      <th>High variant</th>\n",
       "      <th>Instant-replacement</th>\n",
       "      <th>Low variant</th>\n",
       "      <th>Medium variant</th>\n",
       "      <th>Momentum</th>\n",
       "      <th>No change</th>\n",
       "      <th>Zero-migration</th>\n",
       "    </tr>\n",
       "  </thead>\n",
       "  <tbody>\n",
       "    <tr>\n",
       "      <th>0</th>\n",
       "      <td>AFG</td>\n",
       "      <td>POLYGON ((61.21082 35.65007, 62.23065 35.27066...</td>\n",
       "      <td>Afghanistan</td>\n",
       "      <td>138543.698988</td>\n",
       "      <td>59422.740420</td>\n",
       "      <td>17226.780155</td>\n",
       "      <td>78233.819864</td>\n",
       "      <td>55956.766309</td>\n",
       "      <td>55212.625951</td>\n",
       "      <td>65759.578407</td>\n",
       "      <td>57016.887642</td>\n",
       "      <td>122714.591086</td>\n",
       "      <td>69966.875148</td>\n",
       "    </tr>\n",
       "    <tr>\n",
       "      <th>1</th>\n",
       "      <td>AGO</td>\n",
       "      <td>MULTIPOLYGON (((16.32653 -5.87747, 16.57318 -6...</td>\n",
       "      <td>Angola</td>\n",
       "      <td>177168.726420</td>\n",
       "      <td>89786.879160</td>\n",
       "      <td>12845.058000</td>\n",
       "      <td>120095.744605</td>\n",
       "      <td>50536.128198</td>\n",
       "      <td>86383.548284</td>\n",
       "      <td>102061.191272</td>\n",
       "      <td>47848.008667</td>\n",
       "      <td>152812.902654</td>\n",
       "      <td>102126.769370</td>\n",
       "    </tr>\n",
       "    <tr>\n",
       "      <th>2</th>\n",
       "      <td>ALB</td>\n",
       "      <td>POLYGON ((20.59025 41.85540, 20.46317 41.51509...</td>\n",
       "      <td>Albania</td>\n",
       "      <td>2201.732901</td>\n",
       "      <td>1990.069444</td>\n",
       "      <td>2543.362521</td>\n",
       "      <td>2484.922852</td>\n",
       "      <td>2619.153568</td>\n",
       "      <td>1831.403667</td>\n",
       "      <td>2122.920025</td>\n",
       "      <td>3000.972296</td>\n",
       "      <td>2067.334704</td>\n",
       "      <td>2584.174074</td>\n",
       "    </tr>\n",
       "    <tr>\n",
       "      <th>3</th>\n",
       "      <td>ARE</td>\n",
       "      <td>POLYGON ((51.57952 24.24550, 51.75744 24.29407...</td>\n",
       "      <td>United Arab Emirates</td>\n",
       "      <td>11123.330210</td>\n",
       "      <td>10693.688259</td>\n",
       "      <td>2760.642676</td>\n",
       "      <td>12906.112963</td>\n",
       "      <td>13718.729617</td>\n",
       "      <td>9499.602420</td>\n",
       "      <td>11091.756802</td>\n",
       "      <td>10203.820395</td>\n",
       "      <td>10724.123642</td>\n",
       "      <td>9014.107160</td>\n",
       "    </tr>\n",
       "    <tr>\n",
       "      <th>4</th>\n",
       "      <td>ARG</td>\n",
       "      <td>MULTIPOLYGON (((-65.50000 -55.20000, -66.45000...</td>\n",
       "      <td>Argentina</td>\n",
       "      <td>60241.864543</td>\n",
       "      <td>51660.746235</td>\n",
       "      <td>30548.437394</td>\n",
       "      <td>64387.946901</td>\n",
       "      <td>55942.889988</td>\n",
       "      <td>46531.012864</td>\n",
       "      <td>54652.273469</td>\n",
       "      <td>53107.685222</td>\n",
       "      <td>57118.623370</td>\n",
       "      <td>54538.942272</td>\n",
       "    </tr>\n",
       "  </tbody>\n",
       "</table>\n",
       "</div>"
      ],
      "text/plain": [
       "  Country Abreviation                                           geometry  \\\n",
       "0                 AFG  POLYGON ((61.21082 35.65007, 62.23065 35.27066...   \n",
       "1                 AGO  MULTIPOLYGON (((16.32653 -5.87747, 16.57318 -6...   \n",
       "2                 ALB  POLYGON ((20.59025 41.85540, 20.46317 41.51509...   \n",
       "3                 ARE  POLYGON ((51.57952 24.24550, 51.75744 24.29407...   \n",
       "4                 ARG  MULTIPOLYGON (((-65.50000 -55.20000, -66.45000...   \n",
       "\n",
       "                Country  Constant-fertility  Constant-mortality     Estimates  \\\n",
       "0           Afghanistan       138543.698988        59422.740420  17226.780155   \n",
       "1                Angola       177168.726420        89786.879160  12845.058000   \n",
       "2               Albania         2201.732901         1990.069444   2543.362521   \n",
       "3  United Arab Emirates        11123.330210        10693.688259   2760.642676   \n",
       "4             Argentina        60241.864543        51660.746235  30548.437394   \n",
       "\n",
       "    High variant  Instant-replacement   Low variant  Medium variant  \\\n",
       "0   78233.819864         55956.766309  55212.625951    65759.578407   \n",
       "1  120095.744605         50536.128198  86383.548284   102061.191272   \n",
       "2    2484.922852          2619.153568   1831.403667     2122.920025   \n",
       "3   12906.112963         13718.729617   9499.602420    11091.756802   \n",
       "4   64387.946901         55942.889988  46531.012864    54652.273469   \n",
       "\n",
       "       Momentum      No change  Zero-migration  \n",
       "0  57016.887642  122714.591086    69966.875148  \n",
       "1  47848.008667  152812.902654   102126.769370  \n",
       "2   3000.972296    2067.334704     2584.174074  \n",
       "3  10203.820395   10724.123642     9014.107160  \n",
       "4  53107.685222   57118.623370    54538.942272  "
      ]
     },
     "execution_count": 186,
     "metadata": {},
     "output_type": "execute_result"
    }
   ],
   "source": [
    "df_with_geo.head()"
   ]
  },
  {
   "cell_type": "markdown",
   "id": "78502cd2",
   "metadata": {},
   "source": [
    "### 3. Plotting"
   ]
  },
  {
   "cell_type": "markdown",
   "id": "d62368f0",
   "metadata": {},
   "source": [
    "#### Task 1. В яких країнах світу населення у 2100 році буде більшим, ніж було у 2000 році, а в яких меншим?"
   ]
  },
  {
   "cell_type": "code",
   "execution_count": null,
   "id": "51bcf0b1",
   "metadata": {},
   "outputs": [],
   "source": []
  },
  {
   "cell_type": "code",
   "execution_count": null,
   "id": "b1355e0f",
   "metadata": {},
   "outputs": [],
   "source": []
  },
  {
   "cell_type": "code",
   "execution_count": null,
   "id": "2059c2f7",
   "metadata": {},
   "outputs": [],
   "source": []
  },
  {
   "cell_type": "markdown",
   "id": "7dfde979",
   "metadata": {},
   "source": [
    "#### Task 2. На скільки відсотків збільшиться або зменшиться населення кожної країни у 2100 році у порівнянні з 2000 роком?"
   ]
  },
  {
   "cell_type": "code",
   "execution_count": null,
   "id": "cae0b125",
   "metadata": {},
   "outputs": [],
   "source": []
  },
  {
   "cell_type": "code",
   "execution_count": null,
   "id": "b60b7393",
   "metadata": {},
   "outputs": [],
   "source": []
  },
  {
   "cell_type": "code",
   "execution_count": null,
   "id": "c730afa6",
   "metadata": {},
   "outputs": [],
   "source": []
  },
  {
   "cell_type": "markdown",
   "id": "3e55c2e2",
   "metadata": {},
   "source": [
    "#### Task 3. Яким буде населення країн світу у 2100 році?"
   ]
  },
  {
   "cell_type": "code",
   "execution_count": null,
   "id": "344ee3fb",
   "metadata": {},
   "outputs": [],
   "source": []
  },
  {
   "cell_type": "code",
   "execution_count": null,
   "id": "31b55a61",
   "metadata": {},
   "outputs": [],
   "source": []
  },
  {
   "cell_type": "code",
   "execution_count": null,
   "id": "4b2225e2",
   "metadata": {},
   "outputs": [],
   "source": []
  },
  {
   "cell_type": "code",
   "execution_count": null,
   "id": "3937052c",
   "metadata": {},
   "outputs": [],
   "source": []
  },
  {
   "cell_type": "markdown",
   "id": "a3b8a945",
   "metadata": {},
   "source": [
    "Підказки\n",
    "\n",
    "https://github.com/unexpectedjourney/data-visualization/blob/main/assignment-4/main.ipynb"
   ]
  }
 ],
 "metadata": {
  "kernelspec": {
   "display_name": "Python 3 (ipykernel)",
   "language": "python",
   "name": "python3"
  },
  "language_info": {
   "codemirror_mode": {
    "name": "ipython",
    "version": 3
   },
   "file_extension": ".py",
   "mimetype": "text/x-python",
   "name": "python",
   "nbconvert_exporter": "python",
   "pygments_lexer": "ipython3",
   "version": "3.8.9"
  }
 },
 "nbformat": 4,
 "nbformat_minor": 5
}
